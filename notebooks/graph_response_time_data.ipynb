{
 "cells": [
  {
   "cell_type": "markdown",
   "metadata": {
    "collapsed": true,
    "pycharm": {
     "name": "#%% md\n"
    }
   },
   "source": [
    "# graph_response_time_data\n",
    "\n",
    "Display response time data collected by `monitor_response_times_v2.py`"
   ]
  },
  {
   "cell_type": "code",
   "execution_count": 1136,
   "outputs": [],
   "source": [
    "from typing import Any\n",
    "\n",
    "import matplotlib.colors as mcolors\n",
    "import matplotlib.dates as mdates\n",
    "import matplotlib.pyplot as plt\n",
    "import pandas as pd"
   ],
   "metadata": {
    "collapsed": false,
    "pycharm": {
     "name": "#%%\n"
    }
   }
  },
  {
   "cell_type": "code",
   "execution_count": 1137,
   "outputs": [],
   "source": [
    "MONITORING_DATA_TIMESTAMP = \"20220310_112950\"\n",
    "MONITORING_DATA_DIR = f\"../monitoring_data_{MONITORING_DATA_TIMESTAMP}\""
   ],
   "metadata": {
    "collapsed": false,
    "pycharm": {
     "name": "#%%\n"
    }
   }
  },
  {
   "cell_type": "code",
   "execution_count": 1138,
   "outputs": [],
   "source": [
    "class ResponseTimeDisplayMethods:\n",
    "    def __init__(self, input_filename: str, graph_title: str, timestamp_columnname: str,\n",
    "                 response_duration_columnname: str,\n",
    "                 response_code_columnname: str,\n",
    "                 response_reason_columnname: str,\n",
    "                 is_subplot: bool = False,\n",
    "                 figure_width: float = 10,\n",
    "                 figure_height: float = 6.18):\n",
    "        self.input_filename = input_filename\n",
    "        self.graph_title = graph_title\n",
    "        self.timestamp_columnname = timestamp_columnname\n",
    "        self.response_duration_columnname = response_duration_columnname\n",
    "        self.response_code_columnname = response_code_columnname\n",
    "        self.response_reason_columnname = response_reason_columnname\n",
    "        self.is_subplot = is_subplot\n",
    "        self.figure_width = figure_width\n",
    "        self.figure_height = figure_height\n",
    "        plt.style.use(\"fast\")\n",
    "\n",
    "    def load_file_to_df(self, sep: str = ',') -> pd.DataFrame:\n",
    "        return pd.read_csv(self.input_filename, sep=sep)\n",
    "\n",
    "    def update_timestamp_colum(self, df: pd.DataFrame) -> pd.DataFrame:\n",
    "        df[self.timestamp_columnname] = pd.to_datetime(df[self.timestamp_columnname])\n",
    "        df.set_index(self.timestamp_columnname)\n",
    "\n",
    "        # Set the timestamp column as the first column\n",
    "        cols = list(df)\n",
    "        cols.insert(0, cols.pop(cols.index(self.timestamp_columnname)))\n",
    "        df = df.loc[:, cols]\n",
    "        return df\n",
    "\n",
    "    def format_x_axis_time(self) -> None:\n",
    "        ax = plt.gca() # Get current axes\n",
    "        ax.xaxis.set_major_locator(mdates.HourLocator())\n",
    "        ax.xaxis.set_minor_locator(mdates.MinuteLocator(byminute=range(0, 59, 5)))\n",
    "        ax.xaxis.set_major_formatter(mdates.DateFormatter('%Y/%m/%d %H:%M'))\n",
    "        ax.xaxis.set_minor_formatter(mdates.DateFormatter(\"%H:%M\"))\n",
    "        for label in ax.get_xticklabels(which='major'):\n",
    "            label.set(rotation=90, horizontalalignment='right')\n",
    "        for label in ax.get_xticklabels(which='minor'):\n",
    "            label.set(rotation=90, horizontalalignment='right')\n",
    "\n",
    "    def add_legend(self) -> None:\n",
    "        ax = plt.gca() # Get current axes\n",
    "        ax.legend(loc='upper left', frameon=True, edgecolor=\"b\")\n",
    "\n",
    "    def draw_line_graph(self, df: pd.DataFrame) -> None:\n",
    "        df[self.timestamp_columnname] = pd.to_datetime(df[self.timestamp_columnname])\n",
    "        df.set_index(self.timestamp_columnname)\n",
    "\n",
    "        # plt.style.use(\"fast\")\n",
    "        # figure = plt.figure(figsize=(12, 10))\n",
    "        plt.xlabel(\"Time (UTC)\")\n",
    "        self.format_x_axis_time()\n",
    "        plt.ylabel(\"Response Time (seconds)\")\n",
    "        plt.title(self.graph_title)\n",
    "        plt.plot(df[self.timestamp_columnname], df[self.response_duration_columnname], linestyle=\"-\", color=\"b\")\n",
    "\n",
    "    def add_markers(self, df: pd.DataFrame,\n",
    "                    value_columnname: str, match_value: Any,\n",
    "                    marker: str, marker_color: str,\n",
    "                    label: str) -> None:\n",
    "        df_matches = df[df[value_columnname] == match_value]\n",
    "        if df_matches.shape[0] == 0: # No matching rows\n",
    "            return\n",
    "        x_axis_match_timestamps = df_matches[self.timestamp_columnname]\n",
    "        y_axis_match_response_duration = df_matches[self.response_duration_columnname]\n",
    "\n",
    "        plt.scatter(x_axis_match_timestamps, y_axis_match_response_duration,\n",
    "                    marker=marker, c=marker_color, label=label)\n",
    "\n",
    "    def draw_success_markers(self, df: pd.DataFrame) -> None:\n",
    "        self.add_markers(df, self.response_reason_columnname, \"OK\",\n",
    "                         marker='o', marker_color='g', label=\"Success (2xx)\")\n",
    "\n",
    "    def draw_error_markers(self, df):\n",
    "        # For colors available, see: https://matplotlib.org/stable/gallery/color/named_colors.html\n",
    "        for status_code, color in (401, \"k\"), (500, \"r\"), (502, mcolors.TABLEAU_COLORS['tab:orange']):\n",
    "            self.add_markers(df, self.response_code_columnname, status_code,\n",
    "                             marker='v', marker_color=color, label=f\"Error ({status_code})\")\n",
    "\n",
    "    def draw_line_graph_with_error_markers(self, df: pd.DataFrame) -> None:\n",
    "        self.draw_line_graph(df)\n",
    "        self.draw_success_markers(df)\n",
    "        self.draw_error_markers(df)\n",
    "        self.add_legend()\n",
    "        # plt.show()\n",
    "\n",
    "    def display_statistics(self, df: pd.DataFrame) -> None:\n",
    "        print(f\"Maximum value:\\t{round(df[self.response_duration_columnname].max(), 1)} seconds\")\n",
    "        print(f\"Mean value:\\t\\t{round(df[self.response_duration_columnname].mean(), 1)} seconds\")\n",
    "        print(f\"95th quantile:\\t{round(df[self.response_duration_columnname].quantile(0.95), 1)} seconds\")\n",
    "\n",
    "    def display_response_times(self) -> None:\n",
    "        print(self.graph_title)\n",
    "        df = self.load_file_to_df()\n",
    "        df = self.update_timestamp_colum(df)\n",
    "        self.display_statistics(df)\n",
    "        if not self.is_subplot:\n",
    "            plt.figure(1, figsize=(self.figure_width, self.figure_height))\n",
    "        self.draw_line_graph_with_error_markers(df)"
   ],
   "metadata": {
    "collapsed": false,
    "pycharm": {
     "name": "#%%\n"
    }
   }
  },
  {
   "cell_type": "code",
   "execution_count": 1139,
   "outputs": [],
   "source": [
    "def get_graph_columnname_kwargs(basename: str):\n",
    "    return dict(timestamp_columnname=f\"{basename}.start_time\",\n",
    "                response_duration_columnname=f\"{basename}.response_duration\",\n",
    "                response_code_columnname=f\"{basename}.response_code\",\n",
    "                response_reason_columnname=f\"{basename}.response_reason\")"
   ],
   "metadata": {
    "collapsed": false,
    "pycharm": {
     "name": "#%%\n"
    }
   }
  },
  {
   "cell_type": "code",
   "source": [
    "def display_martha_response_times(input_filename: str, is_subplot: bool = False) -> None:\n",
    "    graph_title = \"Martha Response Time\"\n",
    "    displayer = ResponseTimeDisplayMethods(input_filename, graph_title,\n",
    "                                           **get_graph_columnname_kwargs(\"martha\"),\n",
    "                                           is_subplot=is_subplot)\n",
    "    displayer.display_response_times()"
   ],
   "metadata": {
    "collapsed": false,
    "pycharm": {
     "name": "#%%\n"
    }
   },
   "execution_count": 1140,
   "outputs": []
  },
  {
   "cell_type": "code",
   "execution_count": 1141,
   "outputs": [],
   "source": [
    "def display_fence_user_info_response_times(input_filename: str, is_subplot: bool = False) -> None:\n",
    "    graph_title = \"Fence User Info Response Time\"\n",
    "    displayer = ResponseTimeDisplayMethods(input_filename, graph_title,\n",
    "                                           **get_graph_columnname_kwargs(\"fence_user_info\"),\n",
    "                                           is_subplot=is_subplot)\n",
    "    displayer.display_response_times()"
   ],
   "metadata": {
    "collapsed": false,
    "pycharm": {
     "name": "#%%\n"
    }
   }
  },
  {
   "cell_type": "code",
   "execution_count": 1142,
   "outputs": [],
   "source": [
    "def display_bond_get_link_url_response_times(input_filename: str, is_subplot: bool = False) -> None:\n",
    "    graph_title = \"Bond Get Link URL Response Time\"\n",
    "    displayer = ResponseTimeDisplayMethods(input_filename, graph_title,\n",
    "                                           **get_graph_columnname_kwargs(\"bond_get_link_url\"),\n",
    "                                           is_subplot=is_subplot)\n",
    "    displayer.display_response_times()"
   ],
   "metadata": {
    "collapsed": false,
    "pycharm": {
     "name": "#%%\n"
    }
   }
  },
  {
   "cell_type": "code",
   "execution_count": 1143,
   "outputs": [],
   "source": [
    "def display_bond_get_link_status_response_times(input_filename: str, is_subplot: bool = False) -> None:\n",
    "    graph_title = \"Bond Get Link Status Response Time\"\n",
    "    displayer = ResponseTimeDisplayMethods(input_filename, graph_title,\n",
    "                                           **get_graph_columnname_kwargs(\"bond_get_link_status\"),\n",
    "                                           is_subplot=is_subplot)\n",
    "    displayer.display_response_times()"
   ],
   "metadata": {
    "collapsed": false,
    "pycharm": {
     "name": "#%%\n"
    }
   }
  },
  {
   "cell_type": "code",
   "execution_count": 1144,
   "outputs": [],
   "source": [
    "def display_indexd_get_metadata_response_times(input_filename: str, is_subplot: bool = False) -> None:\n",
    "    graph_title = \"Gen3 IndexD Get DRS Metadata Response Time\"\n",
    "    displayer = ResponseTimeDisplayMethods(input_filename, graph_title,\n",
    "                                           **get_graph_columnname_kwargs(\"indexd_get_metadata\"),\n",
    "                                           is_subplot=is_subplot)\n",
    "    displayer.display_response_times()"
   ],
   "metadata": {
    "collapsed": false,
    "pycharm": {
     "name": "#%%\n"
    }
   }
  },
  {
   "cell_type": "code",
   "execution_count": 1145,
   "outputs": [],
   "source": [
    "def display_bond_get_access_token_response_times(input_filename: str, is_subplot: bool = False) -> None:\n",
    "    graph_title = \"Bond Get Access Token Response Time\"\n",
    "    displayer = ResponseTimeDisplayMethods(input_filename, graph_title,\n",
    "                                           **get_graph_columnname_kwargs(\"bond_get_access_token\"),\n",
    "                                           is_subplot=is_subplot)\n",
    "    displayer.display_response_times()"
   ],
   "metadata": {
    "collapsed": false,
    "pycharm": {
     "name": "#%%\n"
    }
   }
  },
  {
   "cell_type": "code",
   "execution_count": 1146,
   "outputs": [],
   "source": [
    "def display_bond_get_sa_key_response_times(input_filename: str, is_subplot: bool = False) -> None:\n",
    "    graph_title = \"Bond Get Service Account Key Response Time\"\n",
    "    displayer = ResponseTimeDisplayMethods(input_filename, graph_title,\n",
    "                                           **get_graph_columnname_kwargs(\"bond_get_sa_key\"),\n",
    "                                           is_subplot=is_subplot)\n",
    "    displayer.display_response_times()"
   ],
   "metadata": {
    "collapsed": false,
    "pycharm": {
     "name": "#%%\n"
    }
   }
  },
  {
   "cell_type": "code",
   "execution_count": 1147,
   "outputs": [],
   "source": [
    "def display_fence_get_signed_url_response_times(input_filename: str, is_subplot: bool = False) -> None:\n",
    "    graph_title = \"Gen3 Fence Get Signed URL Response Time\"\n",
    "    displayer = ResponseTimeDisplayMethods(input_filename, graph_title,\n",
    "                                           **get_graph_columnname_kwargs(\"fence_get_signed_url\"),\n",
    "                                           is_subplot=is_subplot)\n",
    "    displayer.display_response_times()"
   ],
   "metadata": {
    "collapsed": false,
    "pycharm": {
     "name": "#%%\n"
    }
   }
  },
  {
   "cell_type": "code",
   "execution_count": 1148,
   "outputs": [],
   "source": [
    "def display_drs_flow_component_response_times(input_filename: str) -> None:\n",
    "    plt.figure(figsize=(15, 15))\n",
    "    is_subplot = True\n",
    "\n",
    "    plt.subplot(2, 2, 1)\n",
    "    display_indexd_get_metadata_response_times(input_filename, is_subplot)\n",
    "\n",
    "    plt.subplot(2, 2, 2)\n",
    "    display_bond_get_access_token_response_times(input_filename, is_subplot)\n",
    "\n",
    "    plt.subplot(2, 2, 3)\n",
    "    display_fence_get_signed_url_response_times(input_filename, is_subplot)\n",
    "\n",
    "    plt.subplot(2, 2, 4)\n",
    "    display_bond_get_sa_key_response_times(input_filename, is_subplot)\n",
    "\n",
    "    plt.show()"
   ],
   "metadata": {
    "collapsed": false,
    "pycharm": {
     "name": "#%%\n"
    }
   }
  },
  {
   "cell_type": "code",
   "execution_count": 1148,
   "outputs": [],
   "source": [],
   "metadata": {
    "collapsed": false,
    "pycharm": {
     "name": "#%%\n"
    }
   }
  },
  {
   "cell_type": "code",
   "execution_count": null,
   "outputs": [
    {
     "name": "stdout",
     "output_type": "stream",
     "text": [
      "Gen3 IndexD Get DRS Metadata Response Time\n",
      "Maximum value:\t0.3 seconds\n",
      "Mean value:\t\t0.2 seconds\n",
      "95th quantile:\t0.2 seconds\n",
      "Bond Get Access Token Response Time\n",
      "Maximum value:\t115.4 seconds\n",
      "Mean value:\t\t15.7 seconds\n",
      "95th quantile:\t69.3 seconds\n"
     ]
    }
   ],
   "source": [
    "display_drs_flow_component_response_times(\n",
    "    f\"{MONITORING_DATA_DIR}/drs_flow_response_times_{MONITORING_DATA_TIMESTAMP}.csv\")"
   ],
   "metadata": {
    "collapsed": false,
    "pycharm": {
     "name": "#%%\n",
     "is_executing": true
    }
   }
  },
  {
   "cell_type": "code",
   "execution_count": null,
   "outputs": [],
   "source": [
    "def display_bond_link_info_response_times(input_filename: str) -> None:\n",
    "    plt.figure(figsize=(15, 7))\n",
    "    is_subplot = True\n",
    "\n",
    "    plt.subplot(1, 2, 1)\n",
    "    display_bond_get_link_url_response_times(input_filename, is_subplot)\n",
    "\n",
    "    plt.subplot(1, 2, 2)\n",
    "    display_bond_get_link_status_response_times(input_filename, is_subplot)\n",
    "\n",
    "    plt.show()"
   ],
   "metadata": {
    "collapsed": false,
    "pycharm": {
     "name": "#%%\n",
     "is_executing": true
    }
   }
  },
  {
   "cell_type": "code",
   "execution_count": null,
   "outputs": [],
   "source": [
    "display_bond_link_info_response_times(\n",
    "    f\"{MONITORING_DATA_DIR}/bond_external_idenity_response_times_{MONITORING_DATA_TIMESTAMP}.csv\")\n"
   ],
   "metadata": {
    "collapsed": false,
    "pycharm": {
     "name": "#%%\n",
     "is_executing": true
    }
   }
  },
  {
   "cell_type": "code",
   "execution_count": null,
   "outputs": [],
   "source": [
    "display_martha_response_times(f\"{MONITORING_DATA_DIR}/martha_response_time_{MONITORING_DATA_TIMESTAMP}.csv\")"
   ],
   "metadata": {
    "collapsed": false,
    "pycharm": {
     "name": "#%%\n",
     "is_executing": true
    }
   }
  },
  {
   "cell_type": "code",
   "execution_count": null,
   "outputs": [],
   "source": [
    "display_fence_user_info_response_times(\n",
    "    f\"{MONITORING_DATA_DIR}/fence_user_info_response_time_{MONITORING_DATA_TIMESTAMP}.csv\")"
   ],
   "metadata": {
    "collapsed": false,
    "pycharm": {
     "name": "#%%\n",
     "is_executing": true
    }
   }
  },
  {
   "cell_type": "code",
   "execution_count": null,
   "outputs": [],
   "source": [
    "display_bond_get_link_url_response_times(\n",
    "    f\"{MONITORING_DATA_DIR}/bond_external_idenity_response_times_{MONITORING_DATA_TIMESTAMP}.csv\")\n"
   ],
   "metadata": {
    "collapsed": false,
    "pycharm": {
     "name": "#%%\n",
     "is_executing": true
    }
   }
  },
  {
   "cell_type": "code",
   "execution_count": null,
   "outputs": [],
   "source": [
    "display_bond_get_link_status_response_times(\n",
    "    f\"{MONITORING_DATA_DIR}/bond_external_idenity_response_times_{MONITORING_DATA_TIMESTAMP}.csv\")"
   ],
   "metadata": {
    "collapsed": false,
    "pycharm": {
     "name": "#%%\n",
     "is_executing": true
    }
   }
  },
  {
   "cell_type": "code",
   "execution_count": null,
   "outputs": [],
   "source": [
    "display_indexd_get_metadata_response_times(\n",
    "    f\"{MONITORING_DATA_DIR}/drs_flow_response_times_{MONITORING_DATA_TIMESTAMP}.csv\")"
   ],
   "metadata": {
    "collapsed": false,
    "pycharm": {
     "name": "#%%\n",
     "is_executing": true
    }
   }
  },
  {
   "cell_type": "code",
   "execution_count": null,
   "outputs": [],
   "source": [
    "display_bond_get_access_token_response_times(\n",
    "    f\"{MONITORING_DATA_DIR}/drs_flow_response_times_{MONITORING_DATA_TIMESTAMP}.csv\")"
   ],
   "metadata": {
    "collapsed": false,
    "pycharm": {
     "name": "#%%\n",
     "is_executing": true
    }
   }
  },
  {
   "cell_type": "code",
   "execution_count": null,
   "outputs": [],
   "source": [
    "display_bond_get_sa_key_response_times(f\"{MONITORING_DATA_DIR}/drs_flow_response_times_{MONITORING_DATA_TIMESTAMP}.csv\")"
   ],
   "metadata": {
    "collapsed": false,
    "pycharm": {
     "name": "#%%\n",
     "is_executing": true
    }
   }
  },
  {
   "cell_type": "code",
   "execution_count": null,
   "outputs": [],
   "source": [
    "display_fence_get_signed_url_response_times(\n",
    "    f\"{MONITORING_DATA_DIR}/drs_flow_response_times_{MONITORING_DATA_TIMESTAMP}.csv\")"
   ],
   "metadata": {
    "collapsed": false,
    "pycharm": {
     "name": "#%%\n",
     "is_executing": true
    }
   }
  }
 ],
 "metadata": {
  "kernelspec": {
   "display_name": "Python 3",
   "language": "python",
   "name": "python3"
  },
  "language_info": {
   "codemirror_mode": {
    "name": "ipython",
    "version": 2
   },
   "file_extension": ".py",
   "mimetype": "text/x-python",
   "name": "python",
   "nbconvert_exporter": "python",
   "pygments_lexer": "ipython2",
   "version": "2.7.6"
  }
 },
 "nbformat": 4,
 "nbformat_minor": 0
}