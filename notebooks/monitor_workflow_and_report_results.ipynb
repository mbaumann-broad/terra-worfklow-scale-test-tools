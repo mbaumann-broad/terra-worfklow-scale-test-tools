{
 "cells": [
  {
   "cell_type": "markdown",
   "source": [
    "# monitor_workflow_and_report_results\n",
    "\n",
    "Top-level Notebook for monitoring and reporting results of workflow DRS data access scale tests."
   ],
   "metadata": {
    "collapsed": false,
    "pycharm": {
     "name": "#%% md\n"
    }
   }
  },
  {
   "cell_type": "markdown",
   "source": [
    "# Imports"
   ],
   "metadata": {
    "collapsed": false,
    "pycharm": {
     "name": "#%% md\n"
    }
   }
  },
  {
   "cell_type": "code",
   "execution_count": null,
   "outputs": [],
   "source": [
    "import os\n",
    "import sys\n",
    "import time\n",
    "from datetime import datetime\n",
    "from pathlib import Path\n",
    "\n",
    "import psutil"
   ],
   "metadata": {
    "collapsed": false,
    "pycharm": {
     "name": "#%%\n"
    }
   }
  },
  {
   "cell_type": "code",
   "execution_count": null,
   "outputs": [],
   "source": [
    "def find_relative_directory(relative_path_list: list) -> str:\n",
    "    print(f\"CWD: {os.getcwd()}\")   # Debugging\n",
    "    for relative_path in relative_path_list:\n",
    "        if os.path.isdir(relative_path):\n",
    "            print(f\"Found directory: {relative_path}\")  # Debugging\n",
    "            return relative_path\n",
    "    raise Exception(f\"Directory in list not found: {relative_path_list}\")"
   ],
   "metadata": {
    "collapsed": false,
    "pycharm": {
     "name": "#%%\n"
    }
   }
  },
  {
   "cell_type": "code",
   "execution_count": null,
   "outputs": [],
   "source": [
    "SCRIPTS = find_relative_directory([\"scripts\", \"terra-workflow-scale-test-tools/scripts\", \"../scripts\"])\n",
    "sys.path.insert(0, SCRIPTS)\n",
    "print(f\"sys.path: {sys.path}\")  # Debugging"
   ],
   "metadata": {
    "collapsed": false,
    "pycharm": {
     "name": "#%%\n"
    }
   }
  },
  {
   "cell_type": "code",
   "execution_count": null,
   "outputs": [],
   "source": [
    "from user_input import UserInputUI\n",
    "from workflow_info import WorkflowDAO"
   ],
   "metadata": {
    "collapsed": false,
    "pycharm": {
     "name": "#%%\n"
    }
   }
  },
  {
   "cell_type": "code",
   "execution_count": null,
   "outputs": [],
   "source": [
    "def find_notebooks_relative_path() -> str:\n",
    "    cwd = os.getcwd()\n",
    "    if str(cwd).endswith(\"terra-workflow-scale-test-tools/notebooks\"):\n",
    "        return str(\".\")\n",
    "    elif os.path.isdir(\"terra-workflow-scale-test-tools/notebooks\"):\n",
    "        return \"terra-workflow-scale-test-tools/notebooks\"\n",
    "    else:\n",
    "        raise Exception(f\"Notebooks directory not found relative to {str(cwd)}\")\n",
    "\n",
    "NOTEBOOKS = find_notebooks_relative_path()"
   ],
   "metadata": {
    "collapsed": false,
    "pycharm": {
     "name": "#%%\n"
    }
   }
  },
  {
   "cell_type": "markdown",
   "source": [
    "# Optionally Configure for Local/External-to-Terra Development"
   ],
   "metadata": {
    "collapsed": false,
    "pycharm": {
     "name": "#%% md\n"
    }
   }
  },
  {
   "cell_type": "code",
   "execution_count": null,
   "outputs": [],
   "source": [
    "# Enable external development setup\n",
    "# TODO Set this to False for running in Terra Jupyter Cloud Environment.\n",
    "external_development=True\n",
    "if external_development:\n",
    "    external_development_notebook_path = os.path.join(NOTEBOOKS,\"external_development.ipynb\")\n",
    "    %run $external_development_notebook_path\n",
    "    print(f\"CWD: {os.getcwd()}\")  # Debugging\n",
    "    print(f\"PATH: {os.getenv('PATH')}\")  # Debugging"
   ],
   "metadata": {
    "collapsed": false,
    "pycharm": {
     "name": "#%%\n"
    }
   }
  },
  {
   "cell_type": "markdown",
   "source": [
    "# Manual Input/Configuration"
   ],
   "metadata": {
    "collapsed": false,
    "pycharm": {
     "name": "#%% md\n"
    }
   }
  },
  {
   "cell_type": "code",
   "execution_count": null,
   "outputs": [],
   "source": [
    "ui = UserInputUI()\n",
    "ui.display()"
   ],
   "metadata": {
    "collapsed": false,
    "pycharm": {
     "name": "#%%\n"
    }
   }
  },
  {
   "cell_type": "markdown",
   "source": [
    "Currently supported values: `BDC`"
   ],
   "metadata": {
    "collapsed": false,
    "pycharm": {
     "name": "#%% md\n"
    }
   }
  },
  {
   "cell_type": "code",
   "execution_count": null,
   "outputs": [],
   "source": [
    "PROJECT_TO_MONITOR = ui.get_data_service()\n",
    "PROJECT_TO_MONITOR"
   ],
   "metadata": {
    "collapsed": false,
    "pycharm": {
     "name": "#%%\n"
    }
   }
  },
  {
   "cell_type": "markdown",
   "source": [
    "Currently supported values: `DEV`, `ALPHA`"
   ],
   "metadata": {
    "collapsed": false,
    "pycharm": {
     "name": "#%% md\n"
    }
   }
  },
  {
   "cell_type": "code",
   "execution_count": null,
   "outputs": [],
   "source": [
    "TERRA_DEPLOYMENT_TIER=ui.get_terra_deployment_tier()\n",
    "TERRA_DEPLOYMENT_TIER"
   ],
   "metadata": {
    "collapsed": false,
    "pycharm": {
     "name": "#%%\n"
    }
   }
  },
  {
   "cell_type": "code",
   "execution_count": null,
   "outputs": [],
   "source": [
    "WF_SUBMISSION_ID = ui.get_submission_id()\n",
    "# WF_SUBMISSION_ID=\"32f74aa9-7779-4d28-aec7-641d26307beb\"\n",
    "WF_SUBMISSION_ID"
   ],
   "metadata": {
    "collapsed": false,
    "pycharm": {
     "name": "#%%\n"
    }
   }
  },
  {
   "cell_type": "markdown",
   "source": [
    "# Get Workflow Details"
   ],
   "metadata": {
    "collapsed": false,
    "pycharm": {
     "name": "#%% md\n"
    }
   }
  },
  {
   "cell_type": "code",
   "execution_count": null,
   "outputs": [],
   "source": [
    "WORKSPACE_NAMESPACE = os.getenv('WORKSPACE_NAMESPACE')\n",
    "WORKSPACE_NAME = os.getenv('WORKSPACE_NAME')"
   ],
   "metadata": {
    "collapsed": false,
    "pycharm": {
     "name": "#%%\n"
    }
   }
  },
  {
   "cell_type": "code",
   "execution_count": null,
   "outputs": [],
   "source": [
    "workflow_dao = WorkflowDAO(TERRA_DEPLOYMENT_TIER, WORKSPACE_NAMESPACE, WORKSPACE_NAME, WF_SUBMISSION_ID)\n",
    "print(\"This may take a minute or more for large workflows ...\")\n",
    "print(f\"\\nSubmission Summary:\\n{workflow_dao.get_workflow_summary_display_string()}\")"
   ],
   "metadata": {
    "collapsed": false,
    "pycharm": {
     "name": "#%%\n"
    }
   }
  },
  {
   "cell_type": "code",
   "execution_count": null,
   "outputs": [],
   "source": [
    "WF_START_TIME = workflow_dao.get_submission_time('%Y/%m/%d %H:%M:%S')\n",
    "WF_START_TIME"
   ],
   "metadata": {
    "collapsed": false,
    "pycharm": {
     "name": "#%%\n"
    }
   }
  },
  {
   "cell_type": "markdown",
   "source": [
    "## Processing Steps to Run"
   ],
   "metadata": {
    "collapsed": false,
    "pycharm": {
     "name": "#%% md\n"
    }
   }
  },
  {
   "cell_type": "code",
   "execution_count": null,
   "outputs": [],
   "source": [
    "monitor_response_times = ui.is_monitor_response_times()\n",
    "monitor_response_times"
   ],
   "metadata": {
    "collapsed": false,
    "pycharm": {
     "name": "#%%\n"
    }
   }
  },
  {
   "cell_type": "code",
   "execution_count": null,
   "outputs": [],
   "source": [
    "copy_workflow_logs_for_analysis = ui.is_copy_workflow_logs_for_analysis()\n",
    "copy_workflow_logs_for_analysis"
   ],
   "metadata": {
    "collapsed": false,
    "pycharm": {
     "name": "#%%\n"
    }
   }
  },
  {
   "cell_type": "code",
   "execution_count": null,
   "outputs": [],
   "source": [
    "extract_timeseries_data = ui.is_extract_timeseries_data()\n",
    "extract_timeseries_data"
   ],
   "metadata": {
    "collapsed": false,
    "pycharm": {
     "name": "#%%\n"
    }
   }
  },
  {
   "cell_type": "code",
   "execution_count": null,
   "outputs": [],
   "source": [
    "display_timeseries_graphs = ui.is_display_timeseries_graphs()\n",
    "display_timeseries_graphs"
   ],
   "metadata": {
    "collapsed": false,
    "pycharm": {
     "name": "#%%\n"
    }
   }
  },
  {
   "cell_type": "markdown",
   "source": [
    "# General Constants"
   ],
   "metadata": {
    "collapsed": false,
    "pycharm": {
     "name": "#%% md\n"
    }
   }
  },
  {
   "cell_type": "code",
   "execution_count": null,
   "outputs": [],
   "source": [
    "WORKSPACE_BUCKET=os.environ['WORKSPACE_BUCKET']\n",
    "WORKSPACE_BUCKET"
   ],
   "metadata": {
    "collapsed": false,
    "pycharm": {
     "name": "#%%\n"
    }
   }
  },
  {
   "cell_type": "code",
   "execution_count": null,
   "outputs": [],
   "source": [
    "WS_WF_GS_URI=f\"{WORKSPACE_BUCKET}/{WF_SUBMISSION_ID}\"\n",
    "WS_WF_GS_URI"
   ],
   "metadata": {
    "collapsed": false,
    "pycharm": {
     "name": "#%%\n"
    }
   }
  },
  {
   "cell_type": "code",
   "execution_count": null,
   "outputs": [],
   "source": [
    "TEST_RESULTS_DIR=Path('./test_results').resolve().as_posix()\n",
    "! mkdir -p \"{TEST_RESULTS_DIR}\"\n",
    "TEST_RESULTS_DIR"
   ],
   "metadata": {
    "collapsed": false,
    "pycharm": {
     "name": "#%%\n"
    }
   }
  },
  {
   "cell_type": "code",
   "execution_count": null,
   "outputs": [],
   "source": [
    "WF_TEST_RESULTS_DIR=os.path.join(TEST_RESULTS_DIR, f\"submission_{WF_SUBMISSION_ID}\")\n",
    "! mkdir -p \"{WF_TEST_RESULTS_DIR}\"\n",
    "WF_TEST_RESULTS_DIR"
   ],
   "metadata": {
    "collapsed": false,
    "pycharm": {
     "name": "#%%\n"
    }
   }
  },
  {
   "cell_type": "code",
   "execution_count": null,
   "outputs": [],
   "source": [
    "WF_TEST_RESULTS_WORKFLOW_LOGS_DIR=os.path.join(WF_TEST_RESULTS_DIR, \"workflow-logs\")\n",
    "WF_TEST_RESULTS_WORKFLOW_LOGS_DIR"
   ],
   "metadata": {
    "collapsed": false,
    "pycharm": {
     "name": "#%%\n"
    }
   }
  },
  {
   "cell_type": "code",
   "execution_count": null,
   "outputs": [],
   "source": [
    "MONITORING_OUTPUT_DIR=os.path.join(WF_TEST_RESULTS_DIR,\n",
    "                                   f\"monitoring_data_{datetime.strptime(WF_START_TIME, '%Y/%m/%d %H:%M:%S').strftime('%Y%m%d_%H%M%S')}\")\n",
    "! mkdir -p \"{MONITORING_OUTPUT_DIR}\"\n",
    "MONITORING_OUTPUT_DIR"
   ],
   "metadata": {
    "collapsed": false,
    "pycharm": {
     "name": "#%%\n"
    }
   }
  },
  {
   "cell_type": "markdown",
   "source": [
    "# Monitor response times during workflow execution"
   ],
   "metadata": {
    "collapsed": false,
    "pycharm": {
     "name": "#%% md\n"
    }
   }
  },
  {
   "cell_type": "code",
   "execution_count": null,
   "outputs": [],
   "source": [
    "def start_monitoring_background_process() -> psutil.Process:\n",
    "    print(\"Starting monitoring background process ...\")\n",
    "    process = psutil.Popen([\"python3\", f\"{SCRIPTS}/monitor_response_times.py\",\n",
    "                            \"--project\", PROJECT_TO_MONITOR,\n",
    "                            \"--terra-deployment-tier\", TERRA_DEPLOYMENT_TIER,\n",
    "                            \"--output-dir\", MONITORING_OUTPUT_DIR])\n",
    "    print(f\"Started {process}\")\n",
    "    return process"
   ],
   "metadata": {
    "collapsed": false,
    "pycharm": {
     "name": "#%%\n"
    }
   }
  },
  {
   "cell_type": "code",
   "execution_count": null,
   "outputs": [],
   "source": [
    "def wait_for_workflow_to_complete() -> None:\n",
    "    sleep_seconds = 10\n",
    "    while workflow_dao.is_in_process():\n",
    "        print(f\"Workflow status: {workflow_dao.get_workflow_status}\")\n",
    "        print(f\"Sleeping {sleep_seconds} seconds ...\", end=\"\")\n",
    "        time.sleep(sleep_seconds)\n",
    "        print(\"awake now!\")\n",
    "        workflow_dao.update()"
   ],
   "metadata": {
    "collapsed": false,
    "pycharm": {
     "name": "#%%\n"
    }
   }
  },
  {
   "cell_type": "code",
   "execution_count": null,
   "outputs": [],
   "source": [
    "def stop_monitoring_background_process(process: psutil.Process) -> None:\n",
    "    print(\"Stopping monitoring background process ...\")\n",
    "    process.terminate()\n",
    "    process.wait(60)\n",
    "    print(\"Stopped monitoring background process.\")"
   ],
   "metadata": {
    "collapsed": false,
    "pycharm": {
     "name": "#%%\n"
    }
   }
  },
  {
   "cell_type": "code",
   "execution_count": null,
   "outputs": [],
   "source": [
    "if monitor_response_times:\n",
    "    monitoring_process = start_monitoring_background_process()\n",
    "\n",
    "    wait_for_workflow_to_complete()\n",
    "\n",
    "    stop_monitoring_background_process(monitoring_process)"
   ],
   "metadata": {
    "collapsed": false,
    "pycharm": {
     "name": "#%%\n"
    }
   }
  },
  {
   "cell_type": "markdown",
   "source": [
    "# Copy workflow logs from the workspace bucket to the local filesystem"
   ],
   "metadata": {
    "collapsed": false,
    "pycharm": {
     "name": "#%% md\n"
    }
   }
  },
  {
   "cell_type": "code",
   "execution_count": null,
   "outputs": [],
   "source": [
    "if copy_workflow_logs_for_analysis:\n",
    "    workflow_logs_path = Path(WF_TEST_RESULTS_WORKFLOW_LOGS_DIR)\n",
    "    if not workflow_logs_path.exists():\n",
    "        workflow_logs_path.mkdir(parents=True, exist_ok=False)\n",
    "        # Copy the logs - this can take a long time (tens of minutes to hours)\n",
    "        ! \"{SCRIPTS}/copy_workflow_logs_to_local_fs.sh\" -s \"{WS_WF_GS_URI}\" -d \"{WF_TEST_RESULTS_WORKFLOW_LOGS_DIR}\" > \"{WF_TEST_RESULTS_WORKFLOW_LOGS_DIR}/copy_workflow_logs_to_local_fs.log\" 2>&1\n",
    "    else:\n",
    "        print(f\"The workflow-logs directory already exists: {WF_TEST_RESULTS_WORKFLOW_LOGS_DIR}\")\n",
    "        print(\"Skipping copy of the workflow logs.\")\n",
    "else:\n",
    "    print(\"Currently configured to skip copying of workflow logs.\")\n"
   ],
   "metadata": {
    "collapsed": false,
    "pycharm": {
     "name": "#%%\n"
    }
   }
  },
  {
   "cell_type": "code",
   "execution_count": null,
   "outputs": [],
   "source": [
    "if extract_timeseries_data:\n",
    "    ! \"{SCRIPTS}/extract_drs_localization_timestamps.sh\" -d \"{WF_TEST_RESULTS_DIR}\" # > \"{WF_TEST_RESULTS_WORKFLOW_LOGS_DIR}/extract_drs_localization_timestamps.log\" 2>&1"
   ],
   "metadata": {
    "collapsed": false,
    "pycharm": {
     "name": "#%%\n"
    }
   }
  },
  {
   "cell_type": "code",
   "execution_count": null,
   "outputs": [],
   "source": [
    "if extract_timeseries_data:\n",
    "    ! \"{SCRIPTS}/extract_drs_localization_fallback_timestamps.sh\" -d \"{WF_TEST_RESULTS_DIR}\"  # > \"{WF_TEST_RESULTS_WORKFLOW_LOGS_DIR}/extract_drs_localization_fallback_timestamps.log\" 2>&1"
   ],
   "metadata": {
    "collapsed": false,
    "pycharm": {
     "name": "#%%\n"
    }
   }
  },
  {
   "cell_type": "markdown",
   "source": [
    "# Display the results of the workflow run"
   ],
   "metadata": {
    "collapsed": false,
    "pycharm": {
     "name": "#%% md\n"
    }
   }
  },
  {
   "cell_type": "markdown",
   "source": [
    "## Workflow DRS localization rates"
   ],
   "metadata": {
    "collapsed": false,
    "pycharm": {
     "name": "#%% md\n"
    }
   }
  },
  {
   "cell_type": "code",
   "execution_count": null,
   "outputs": [],
   "source": [
    "if display_timeseries_graphs:\n",
    "    %run \"{NOTEBOOKS}/graph_drs_data_access_rates.ipynb\""
   ],
   "metadata": {
    "collapsed": false,
    "pycharm": {
     "name": "#%%\n"
    }
   }
  },
  {
   "cell_type": "markdown",
   "source": [
    "## Service/endpoint response times"
   ],
   "metadata": {
    "collapsed": false,
    "pycharm": {
     "name": "#%% md\n"
    }
   }
  },
  {
   "cell_type": "code",
   "execution_count": null,
   "outputs": [],
   "source": [
    "if display_timeseries_graphs:\n",
    "    %run \"{NOTEBOOKS}/graph_response_time_data.ipynb\""
   ],
   "metadata": {
    "collapsed": false,
    "pycharm": {
     "name": "#%%\n"
    }
   }
  },
  {
   "cell_type": "markdown",
   "source": [],
   "metadata": {
    "collapsed": false,
    "pycharm": {
     "name": "#%% md\n"
    }
   }
  }
 ],
 "metadata": {
  "kernelspec": {
   "display_name": "Python 3",
   "language": "python",
   "name": "python3"
  },
  "language_info": {
   "codemirror_mode": {
    "name": "ipython",
    "version": 2
   },
   "file_extension": ".py",
   "mimetype": "text/x-python",
   "name": "python",
   "nbconvert_exporter": "python",
   "pygments_lexer": "ipython2",
   "version": "2.7.6"
  }
 },
 "nbformat": 4,
 "nbformat_minor": 0
}