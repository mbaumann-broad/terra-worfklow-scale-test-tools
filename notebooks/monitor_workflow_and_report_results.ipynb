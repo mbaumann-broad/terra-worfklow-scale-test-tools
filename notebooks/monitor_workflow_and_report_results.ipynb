{
 "cells": [
  {
   "cell_type": "markdown",
   "source": [
    "# monitor_workflow_and_report_results\n",
    "\n",
    "Top-level Notebook for monitoring and reporting results of workflow DRS data access scale tests."
   ],
   "metadata": {
    "collapsed": false
   }
  },
  {
   "cell_type": "code",
   "execution_count": 39,
   "outputs": [],
   "source": [
    "import os\n",
    "import time\n",
    "from datetime import datetime\n",
    "from pathlib import Path\n",
    "\n",
    "import psutil"
   ],
   "metadata": {
    "collapsed": false,
    "pycharm": {
     "name": "#%%\n"
    }
   }
  },
  {
   "cell_type": "markdown",
   "source": [
    "# Custom Setup for Execution Environment"
   ],
   "metadata": {
    "collapsed": false
   }
  },
  {
   "cell_type": "markdown",
   "source": [
    "## Setup for Michael's Broad laptop."
   ],
   "metadata": {
    "collapsed": false
   }
  },
  {
   "cell_type": "code",
   "execution_count": 40,
   "outputs": [],
   "source": [
    "# Enable external development setup\n",
    "external_development=True"
   ],
   "metadata": {
    "collapsed": false,
    "pycharm": {
     "name": "#%%\n"
    }
   }
  },
  {
   "cell_type": "code",
   "execution_count": 41,
   "outputs": [
    {
     "name": "stdout",
     "output_type": "stream",
     "text": [
      "/Users/mbaumann/Repos/mbaumann-broad\n"
     ]
    }
   ],
   "source": [
    "# TODO Set this differently for running in Terra Jupyter Cloud Environment.\n",
    "if external_development:\n",
    "    NOTEBOOK_EXECUTION_DIRECTORY=\"/Users/mbaumann/Repos/mbaumann-broad/\"\n",
    "    %cd {NOTEBOOK_EXECUTION_DIRECTORY}"
   ],
   "metadata": {
    "collapsed": false,
    "pycharm": {
     "name": "#%%\n"
    }
   }
  },
  {
   "cell_type": "code",
   "execution_count": 42,
   "outputs": [],
   "source": [
    "if external_development:\n",
    "    # The processing performed by this Notebook requires grep with PCRE\n",
    "    # support, which the version of grep that comes with MacOS Monterey\n",
    "    # does not provide. Therefore, install it with homebrew and add to PATH:\n",
    "    # $ brew install grep\n",
    "    os.environ['PATH'] = f\"/usr/local/opt/grep/libexec/gnubin:{os.environ['PATH']}\"\n",
    "\n",
    "    # The processing performed by this Notebook requires sed \"-z\" option\n",
    "    # support, which the version of sed that comes with MacOS Monterey\n",
    "    # does not provide. Therefore, install it with homebrew and add to PATH:\n",
    "    # $ brew install gnu-sed\n",
    "    os.environ['PATH'] = f\"/usr/local/opt/gnu-sed/libexec/gnubin:{os.environ['PATH']}\"\n",
    "\n",
    "    if os.environ.get('WORKSPACE_BUCKET') is None:\n",
    "        # Workspace bucket used by: `DRS and Signed URL Development - Dev`\n",
    "        WORKSPACE_BUCKET=\"gs://fc-b14e50ee-ccbe-4ee9-9aa4-f4e4ff85bc03\"\n",
    "        os.environ['WORKSPACE_BUCKET'] = WORKSPACE_BUCKET"
   ],
   "metadata": {
    "collapsed": false,
    "pycharm": {
     "name": "#%%\n"
    }
   }
  },
  {
   "cell_type": "markdown",
   "source": [
    "# Manual Input/Configuration\n",
    "\n",
    "Enter the worflow submission id, which is available from Job Manager\n",
    "after the workflow is started.\n",
    "For example:\n",
    "```\n",
    " WF_SUBMISSION_ID=\"1a72b974-00c4-4316-86d5-7a7b1045f9ef\"\n",
    "```"
   ],
   "metadata": {
    "collapsed": false
   }
  },
  {
   "cell_type": "code",
   "execution_count": 43,
   "outputs": [],
   "source": [
    "WF_SUBMISSION_ID=\"1a72b974-00c4-4316-86d5-7a7b1045f9ef\""
   ],
   "metadata": {
    "collapsed": false,
    "pycharm": {
     "name": "#%%\n"
    }
   }
  },
  {
   "cell_type": "markdown",
   "source": [
    "Enter the start time for the workflow using UTC/GMT in this format:\n",
    "```\n",
    "2022/02/19 01:33:05\n",
    "YYYY/MM/DD HH:MM:SS\n",
    "```\n",
    "\n",
    "For example, the current time in UTC in this format is:"
   ],
   "metadata": {
    "collapsed": false
   }
  },
  {
   "cell_type": "code",
   "execution_count": 62,
   "outputs": [
    {
     "data": {
      "text/plain": "'2022/03/20 18:59:17'"
     },
     "execution_count": 62,
     "metadata": {},
     "output_type": "execute_result"
    }
   ],
   "source": [
    "datetime.utcnow().strftime(\"%Y/%m/%d %H:%M:%S\")"
   ],
   "metadata": {
    "collapsed": false,
    "pycharm": {
     "name": "#%%\n"
    }
   }
  },
  {
   "cell_type": "code",
   "execution_count": 45,
   "outputs": [],
   "source": [
    "WF_START_TIME = \"<Enter UTC date/time in the format above.>\""
   ],
   "metadata": {
    "collapsed": false,
    "pycharm": {
     "name": "#%%\n"
    }
   }
  },
  {
   "cell_type": "markdown",
   "source": [
    "## Processing Steps to Run"
   ],
   "metadata": {
    "collapsed": false
   }
  },
  {
   "cell_type": "code",
   "execution_count": 46,
   "outputs": [],
   "source": [
    "monitor_workflow=True\n",
    "copy_workflow_logs=False\n",
    "extract_timeseries_data=False\n",
    "display_results=False"
   ],
   "metadata": {
    "collapsed": false,
    "pycharm": {
     "name": "#%%\n"
    }
   }
  },
  {
   "cell_type": "markdown",
   "source": [
    "# Constants"
   ],
   "metadata": {
    "collapsed": false
   }
  },
  {
   "cell_type": "code",
   "execution_count": 47,
   "outputs": [
    {
     "data": {
      "text/plain": "'gs://fc-b14e50ee-ccbe-4ee9-9aa4-f4e4ff85bc03'"
     },
     "execution_count": 47,
     "metadata": {},
     "output_type": "execute_result"
    }
   ],
   "source": [
    "WORKSPACE_BUCKET=os.environ['WORKSPACE_BUCKET']\n",
    "WORKSPACE_BUCKET"
   ],
   "metadata": {
    "collapsed": false,
    "pycharm": {
     "name": "#%%\n"
    }
   }
  },
  {
   "cell_type": "code",
   "execution_count": 48,
   "outputs": [
    {
     "data": {
      "text/plain": "'gs://fc-b14e50ee-ccbe-4ee9-9aa4-f4e4ff85bc03/1a72b974-00c4-4316-86d5-7a7b1045f9ef'"
     },
     "execution_count": 48,
     "metadata": {},
     "output_type": "execute_result"
    }
   ],
   "source": [
    "WS_WF_GS_URI=f\"{WORKSPACE_BUCKET}/{WF_SUBMISSION_ID}\"\n",
    "WS_WF_GS_URI"
   ],
   "metadata": {
    "collapsed": false,
    "pycharm": {
     "name": "#%%\n"
    }
   }
  },
  {
   "cell_type": "code",
   "execution_count": 49,
   "outputs": [
    {
     "data": {
      "text/plain": "'./test_results'"
     },
     "execution_count": 49,
     "metadata": {},
     "output_type": "execute_result"
    }
   ],
   "source": [
    "TEST_RESULTS_DIR='./test_results'\n",
    "! mkdir -p {TEST_RESULTS_DIR}\n",
    "TEST_RESULTS_DIR"
   ],
   "metadata": {
    "collapsed": false,
    "pycharm": {
     "name": "#%%\n"
    }
   }
  },
  {
   "cell_type": "code",
   "execution_count": 50,
   "outputs": [
    {
     "data": {
      "text/plain": "'./test_results/submission_1a72b974-00c4-4316-86d5-7a7b1045f9ef'"
     },
     "execution_count": 50,
     "metadata": {},
     "output_type": "execute_result"
    }
   ],
   "source": [
    "WF_TEST_RESULTS_DIR=f\"{TEST_RESULTS_DIR}/submission_{WF_SUBMISSION_ID}\"\n",
    "! mkdir -p {WF_TEST_RESULTS_DIR}\n",
    "WF_TEST_RESULTS_DIR"
   ],
   "metadata": {
    "collapsed": false,
    "pycharm": {
     "name": "#%%\n"
    }
   }
  },
  {
   "cell_type": "code",
   "execution_count": 51,
   "outputs": [
    {
     "data": {
      "text/plain": "'./test_results/submission_1a72b974-00c4-4316-86d5-7a7b1045f9ef/monitoring_data_20220219_005500'"
     },
     "execution_count": 51,
     "metadata": {},
     "output_type": "execute_result"
    }
   ],
   "source": [
    "MONITORING_OUTPUT_DIR=f\"{WF_TEST_RESULTS_DIR}/monitoring_data_{datetime.strptime(WF_START_TIME, '%Y/%m/%d %H:%M:%S').strftime('%Y%m%d_%H%M%S')}\"\n",
    "! mkdir -p {MONITORING_OUTPUT_DIR}\n",
    "MONITORING_OUTPUT_DIR"
   ],
   "metadata": {
    "collapsed": false,
    "pycharm": {
     "name": "#%%\n"
    }
   }
  },
  {
   "cell_type": "code",
   "execution_count": 52,
   "outputs": [],
   "source": [
    "SCRIPTS=\"./terra-workflow-scale-test-tools/scripts\""
   ],
   "metadata": {
    "collapsed": false,
    "pycharm": {
     "name": "#%%\n"
    }
   }
  },
  {
   "cell_type": "markdown",
   "source": [
    "# Functions"
   ],
   "metadata": {
    "collapsed": false,
    "pycharm": {
     "name": "#%% md\n"
    }
   }
  },
  {
   "cell_type": "code",
   "execution_count": 53,
   "outputs": [],
   "source": [
    "def start_monitoring_background_process() -> psutil.Process:\n",
    "    print(\"Starting monitoring background process ...\")\n",
    "    process = psutil.Popen([\"python3\", f\"{SCRIPTS}/monitor_response_times.py\", \"--output-dir\", f\"{MONITORING_OUTPUT_DIR}\" ])\n",
    "    print(f\"Started {process}\")\n",
    "    return process"
   ],
   "metadata": {
    "collapsed": false,
    "pycharm": {
     "name": "#%%\n"
    }
   }
  },
  {
   "cell_type": "code",
   "execution_count": 54,
   "outputs": [],
   "source": [
    "def stop_monitoring_background_process(process: psutil.Process) -> None:\n",
    "    print(\"Stopping monitoring background process ...\")\n",
    "    process.terminate()\n",
    "    process.wait(60)\n",
    "    print(\"Stoped monitoring background process.\")"
   ],
   "metadata": {
    "collapsed": false,
    "pycharm": {
     "name": "#%%\n"
    }
   }
  },
  {
   "cell_type": "code",
   "execution_count": 55,
   "outputs": [],
   "source": [
    "def wait_for_workflow_to_complete() -> None:\n",
    "    # TODO Implement this\n",
    "    pretend_duration = 60\n",
    "    print(f\"Pretending to wait for workflow to complete by waiting {pretend_duration} seconds ...\")\n",
    "    time.sleep(pretend_duration)\n",
    "    print(\"Pretending workflow is complete!\")"
   ],
   "metadata": {
    "collapsed": false,
    "pycharm": {
     "name": "#%%\n"
    }
   }
  },
  {
   "cell_type": "markdown",
   "source": [
    "# Monitor response times during workflow execution"
   ],
   "metadata": {
    "collapsed": false,
    "pycharm": {
     "name": "#%% md\n"
    }
   }
  },
  {
   "cell_type": "code",
   "execution_count": 56,
   "outputs": [
    {
     "name": "stdout",
     "output_type": "stream",
     "text": [
      "Starting monitoring background process ...\n",
      "Started psutil.Popen(pid=51733, name='python3.9', status='running', started='11:49:12')\n",
      "Pretending to wait for workflow to complete by waiting 60 seconds ...\n",
      "Pretending workflow is complete!\n",
      "Stopping monitoring background process ...\n",
      "Stoped monitoring background process.\n"
     ]
    }
   ],
   "source": [
    "if monitor_workflow:\n",
    "    monitoring_process = start_monitoring_background_process()\n",
    "\n",
    "    wait_for_workflow_to_complete()\n",
    "\n",
    "    stop_monitoring_background_process(monitoring_process)"
   ],
   "metadata": {
    "collapsed": false,
    "pycharm": {
     "name": "#%%\n"
    }
   }
  },
  {
   "cell_type": "markdown",
   "source": [
    "# Copy workflow logs from the workspace bucket to the local filesystem"
   ],
   "metadata": {
    "collapsed": false,
    "pycharm": {
     "name": "#%% md\n"
    }
   }
  },
  {
   "cell_type": "code",
   "execution_count": 57,
   "outputs": [],
   "source": [
    "if copy_workflow_logs:\n",
    "    workflow_logs_dir = f\"{WF_TEST_RESULTS_DIR}/workflow-logs\"\n",
    "    if not Path(workflow_logs_dir).exists():\n",
    "        ! {SCRIPTS}/copy_workflow_logs_to_local_fs.sh {WS_WF_GS_URI} {workflow_logs_dir}\n",
    "    else:\n",
    "        print(f\"The workflow-logs directory already exists: {workflow_logs_dir}\")\n",
    "        print(\"Skipping copy of the workflow logs.\")\n"
   ],
   "metadata": {
    "collapsed": false,
    "pycharm": {
     "name": "#%%\n"
    }
   }
  },
  {
   "cell_type": "markdown",
   "source": [],
   "metadata": {
    "collapsed": false,
    "pycharm": {
     "name": "#%% md\n"
    }
   }
  },
  {
   "cell_type": "code",
   "execution_count": 58,
   "outputs": [],
   "source": [
    "if extract_timeseries_data:\n",
    "    ! {SCRIPTS}/extract_drs_localization_timestamps_from_local_fs.sh {WF_TEST_RESULTS_DIR}\n",
    "    "
   ],
   "metadata": {
    "collapsed": false,
    "pycharm": {
     "name": "#%%\n"
    }
   }
  },
  {
   "cell_type": "code",
   "execution_count": 59,
   "outputs": [],
   "source": [
    "if extract_timeseries_data:\n",
    "    ! {SCRIPTS}/extract_drs_localization_fallback_timestamps_from_local_fs.sh {WF_TEST_RESULTS_DIR}"
   ],
   "metadata": {
    "collapsed": false,
    "pycharm": {
     "name": "#%%\n"
    }
   }
  },
  {
   "cell_type": "markdown",
   "source": [
    "# Display the results of the workflow run"
   ],
   "metadata": {
    "collapsed": false,
    "pycharm": {
     "name": "#%% md\n"
    }
   }
  },
  {
   "cell_type": "markdown",
   "source": [
    "## Workflow DRS localization rates"
   ],
   "metadata": {
    "collapsed": false,
    "pycharm": {
     "name": "#%% md\n"
    }
   }
  },
  {
   "cell_type": "code",
   "execution_count": 60,
   "outputs": [],
   "source": [
    "if display_results:\n",
    "    %run {SCRIPTS}/graph_drs_data_access_rates.ipynb\n",
    "    f\"{WF_TEST_RESULTS_DIR}/drs_localization_timeseries.tsv\"\n",
    "    f\"{WF_TEST_RESULTS_DIR}/drs_localization_fallback_timeseries.tsv\""
   ],
   "metadata": {
    "collapsed": false,
    "pycharm": {
     "name": "#%%\n"
    }
   }
  },
  {
   "cell_type": "markdown",
   "source": [
    "## Service/endpoint response times"
   ],
   "metadata": {
    "collapsed": false,
    "pycharm": {
     "name": "#%% md\n"
    }
   }
  },
  {
   "cell_type": "code",
   "execution_count": 61,
   "outputs": [],
   "source": [
    "if display_results:\n",
    "    %run {SCRIPTS}/graph_response_time_data.ipynb TODO"
   ],
   "metadata": {
    "collapsed": false,
    "pycharm": {
     "name": "#%%\n"
    }
   }
  },
  {
   "cell_type": "markdown",
   "source": [],
   "metadata": {
    "collapsed": false,
    "pycharm": {
     "name": "#%% md\n"
    }
   }
  }
 ],
 "metadata": {
  "kernelspec": {
   "display_name": "Python 3",
   "language": "python",
   "name": "python3"
  },
  "language_info": {
   "codemirror_mode": {
    "name": "ipython",
    "version": 2
   },
   "file_extension": ".py",
   "mimetype": "text/x-python",
   "name": "python",
   "nbconvert_exporter": "python",
   "pygments_lexer": "ipython2",
   "version": "2.7.6"
  }
 },
 "nbformat": 4,
 "nbformat_minor": 0
}