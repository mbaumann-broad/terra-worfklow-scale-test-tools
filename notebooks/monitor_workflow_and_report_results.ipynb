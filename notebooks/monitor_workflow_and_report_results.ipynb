{
 "cells": [
  {
   "cell_type": "markdown",
   "source": [
    "# monitor_workflow_and_report_results\n",
    "\n",
    "Top-level Notebook for monitoring and reporting results of workflow DRS data access scale tests."
   ],
   "metadata": {
    "collapsed": false
   }
  },
  {
   "cell_type": "code",
   "execution_count": 81,
   "outputs": [],
   "source": [
    "import os\n",
    "import time\n",
    "from datetime import datetime\n",
    "from pathlib import Path\n",
    "\n",
    "import psutil"
   ],
   "metadata": {
    "collapsed": false,
    "pycharm": {
     "name": "#%%\n"
    }
   }
  },
  {
   "cell_type": "markdown",
   "source": [
    "# Custom Setup for Execution Environment"
   ],
   "metadata": {
    "collapsed": false
   }
  },
  {
   "cell_type": "markdown",
   "source": [
    "## Setup for Michael's Broad laptop."
   ],
   "metadata": {
    "collapsed": false
   }
  },
  {
   "cell_type": "code",
   "execution_count": 82,
   "outputs": [],
   "source": [
    "# Enable external development setup\n",
    "external_development=True"
   ],
   "metadata": {
    "collapsed": false,
    "pycharm": {
     "name": "#%%\n"
    }
   }
  },
  {
   "cell_type": "code",
   "execution_count": 83,
   "outputs": [
    {
     "name": "stdout",
     "output_type": "stream",
     "text": [
      "/Users/mbaumann/Repos/mbaumann-broad\n"
     ]
    }
   ],
   "source": [
    "# TODO Set this differently for running in Terra Jupyter Cloud Environment.\n",
    "if external_development:\n",
    "    NOTEBOOK_EXECUTION_DIRECTORY=\"/Users/mbaumann/Repos/mbaumann-broad/\"\n",
    "    %cd {NOTEBOOK_EXECUTION_DIRECTORY}"
   ],
   "metadata": {
    "collapsed": false,
    "pycharm": {
     "name": "#%%\n"
    }
   }
  },
  {
   "cell_type": "code",
   "execution_count": 84,
   "outputs": [],
   "source": [
    "if external_development:\n",
    "    # The processing performed by this Notebook requires grep with PCRE\n",
    "    # support, which the version of grep that comes with MacOS Monterey\n",
    "    # does not provide. Therefore, install it with homebrew and add to PATH:\n",
    "    # $ brew install grep\n",
    "    os.environ['PATH'] = f\"/usr/local/opt/grep/libexec/gnubin:{os.environ['PATH']}\"\n",
    "\n",
    "    # The processing performed by this Notebook requires sed \"-z\" option\n",
    "    # support, which the version of sed that comes with MacOS Monterey\n",
    "    # does not provide. Therefore, install it with homebrew and add to PATH:\n",
    "    # $ brew install gnu-sed\n",
    "    os.environ['PATH'] = f\"/usr/local/opt/gnu-sed/libexec/gnubin:{os.environ['PATH']}\"\n",
    "\n",
    "    # The processing performed by this Notebook requires xargs \"-a\" option\n",
    "    # support, which the version of sed that comes with MacOS Monterey\n",
    "    # does not provide. Therefore, install it with homebrew and add to PATH:\n",
    "    # $ brew install findutils\n",
    "    os.environ['PATH'] = f\"/usr/local/opt/findutils/libexec/gnubin:{os.environ['PATH']}\"\n",
    "\n",
    "    if os.environ.get('WORKSPACE_BUCKET') is None:\n",
    "        # Workspace bucket used by: `DRS and Signed URL Development - Dev`\n",
    "        # WORKSPACE_BUCKET=\"gs://fc-b14e50ee-ccbe-4ee9-9aa4-f4e4ff85bc03\"\n",
    "        WORKSPACE_BUCKET=\"gs://fc-26863db0-1fe6-463b-a05b-9f8c8cb33dac\"\n",
    "        os.environ['WORKSPACE_BUCKET'] = WORKSPACE_BUCKET"
   ],
   "metadata": {
    "collapsed": false,
    "pycharm": {
     "name": "#%%\n"
    }
   }
  },
  {
   "cell_type": "code",
   "execution_count": 85,
   "outputs": [
    {
     "data": {
      "text/plain": "'/usr/local/opt/findutils/libexec/gnubin:/usr/local/opt/gnu-sed/libexec/gnubin:/usr/local/opt/grep/libexec/gnubin:/usr/local/opt/findutils/libexec/gnubin:/usr/local/opt/gnu-sed/libexec/gnubin:/usr/local/opt/grep/libexec/gnubin:/usr/local/opt/findutils/libexec/gnubin:/usr/local/opt/gnu-sed/libexec/gnubin:/usr/local/opt/grep/libexec/gnubin:/usr/local/opt/findutils/libexec/gnubin:/usr/local/opt/gnu-sed/libexec/gnubin:/usr/local/opt/grep/libexec/gnubin:/usr/local/opt/gnu-sed/libexec/gnubin:/usr/local/opt/grep/libexec/gnubin:/usr/local/opt/gnu-sed/libexec/gnubin:/usr/local/opt/grep/libexec/gnubin:/Users/mbaumann/opt/miniconda3/bin:/Users/mbaumann/opt/anaconda3/condabin:/Users/mbaumann/Tools/google-cloud-sdk/bin:/usr/local/opt/openjdk@11/bin:/usr/local/bin:/usr/local/bin:/usr/bin:/bin:/usr/sbin:/sbin:/Users/mbaumann/scripts:/Users/mbaumann/scripts/aws:/Users/mbaumann/bin'"
     },
     "execution_count": 85,
     "metadata": {},
     "output_type": "execute_result"
    }
   ],
   "source": [
    "os.environ['PATH']"
   ],
   "metadata": {
    "collapsed": false,
    "pycharm": {
     "name": "#%%\n"
    }
   }
  },
  {
   "cell_type": "markdown",
   "source": [
    "# Manual Input/Configuration\n",
    "\n",
    "Enter the workflow submission id, which is available from Job Manager\n",
    "after the workflow is started.\n",
    "For example:\n",
    "```\n",
    " WF_SUBMISSION_ID=\"1a72b974-00c4-4316-86d5-7a7b1045f9ef\"\n",
    "```"
   ],
   "metadata": {
    "collapsed": false
   }
  },
  {
   "cell_type": "code",
   "execution_count": 86,
   "outputs": [],
   "source": [
    "#TODO Uncomment this line when using as a template Notebook\n",
    "# WF_SUBMISSION_ID = \"<Enter workflow submission id as shown above.>\"\n",
    "#WF_SUBMISSION_ID=\"1a72b974-00c4-4316-86d5-7a7b1045f9ef\"\n",
    "# md5_n_by_m_scatter 100 files\n",
    "WF_SUBMISSION_ID=\"c2557d8e-db40-4bac-8005-4488c5dd290c\""
   ],
   "metadata": {
    "collapsed": false,
    "pycharm": {
     "name": "#%%\n"
    }
   }
  },
  {
   "cell_type": "markdown",
   "source": [
    "Enter the start time for the workflow using UTC/GMT in this format:\n",
    "```\n",
    "2022/02/19 01:33:05\n",
    "YYYY/MM/DD HH:MM:SS\n",
    "```\n",
    "\n",
    "For example, the current time in UTC in this format is:"
   ],
   "metadata": {
    "collapsed": false
   }
  },
  {
   "cell_type": "code",
   "execution_count": 87,
   "outputs": [
    {
     "data": {
      "text/plain": "'2022/03/21 04:23:40'"
     },
     "execution_count": 87,
     "metadata": {},
     "output_type": "execute_result"
    }
   ],
   "source": [
    "datetime.utcnow().strftime(\"%Y/%m/%d %H:%M:%S\")"
   ],
   "metadata": {
    "collapsed": false,
    "pycharm": {
     "name": "#%%\n"
    }
   }
  },
  {
   "cell_type": "code",
   "execution_count": 88,
   "outputs": [],
   "source": [
    "#TODO Uncomment this line when using as a template Notebook\n",
    "# WF_START_TIME = \"<Enter UTC date/time in the format above.>\"\n",
    "WF_START_TIME = datetime.utcnow().strftime(\"%Y/%m/%d %H:%M:%S\")"
   ],
   "metadata": {
    "collapsed": false,
    "pycharm": {
     "name": "#%%\n"
    }
   }
  },
  {
   "cell_type": "markdown",
   "source": [
    "## Processing Steps to Run"
   ],
   "metadata": {
    "collapsed": false
   }
  },
  {
   "cell_type": "code",
   "execution_count": 89,
   "outputs": [],
   "source": [
    "monitor_workflow=True\n",
    "copy_workflow_logs=True\n",
    "extract_timeseries_data=False\n",
    "display_results=False"
   ],
   "metadata": {
    "collapsed": false,
    "pycharm": {
     "name": "#%%\n"
    }
   }
  },
  {
   "cell_type": "markdown",
   "source": [
    "# Constants"
   ],
   "metadata": {
    "collapsed": false
   }
  },
  {
   "cell_type": "code",
   "execution_count": 90,
   "outputs": [
    {
     "data": {
      "text/plain": "'gs://fc-26863db0-1fe6-463b-a05b-9f8c8cb33dac'"
     },
     "execution_count": 90,
     "metadata": {},
     "output_type": "execute_result"
    }
   ],
   "source": [
    "WORKSPACE_BUCKET=os.environ['WORKSPACE_BUCKET']\n",
    "WORKSPACE_BUCKET"
   ],
   "metadata": {
    "collapsed": false,
    "pycharm": {
     "name": "#%%\n"
    }
   }
  },
  {
   "cell_type": "code",
   "execution_count": 91,
   "outputs": [
    {
     "data": {
      "text/plain": "'gs://fc-26863db0-1fe6-463b-a05b-9f8c8cb33dac/c2557d8e-db40-4bac-8005-4488c5dd290c'"
     },
     "execution_count": 91,
     "metadata": {},
     "output_type": "execute_result"
    }
   ],
   "source": [
    "WS_WF_GS_URI=f\"{WORKSPACE_BUCKET}/{WF_SUBMISSION_ID}\"\n",
    "WS_WF_GS_URI"
   ],
   "metadata": {
    "collapsed": false,
    "pycharm": {
     "name": "#%%\n"
    }
   }
  },
  {
   "cell_type": "code",
   "execution_count": 92,
   "outputs": [
    {
     "data": {
      "text/plain": "'/Users/mbaumann/Repos/mbaumann-broad/test_results'"
     },
     "execution_count": 92,
     "metadata": {},
     "output_type": "execute_result"
    }
   ],
   "source": [
    "TEST_RESULTS_DIR=Path('./test_results').resolve().as_posix()\n",
    "! mkdir -p {TEST_RESULTS_DIR}\n",
    "TEST_RESULTS_DIR"
   ],
   "metadata": {
    "collapsed": false,
    "pycharm": {
     "name": "#%%\n"
    }
   }
  },
  {
   "cell_type": "code",
   "execution_count": 93,
   "outputs": [
    {
     "data": {
      "text/plain": "'/Users/mbaumann/Repos/mbaumann-broad/test_results/submission_c2557d8e-db40-4bac-8005-4488c5dd290c'"
     },
     "execution_count": 93,
     "metadata": {},
     "output_type": "execute_result"
    }
   ],
   "source": [
    "WF_TEST_RESULTS_DIR=os.path.join(TEST_RESULTS_DIR, f\"submission_{WF_SUBMISSION_ID}\")\n",
    "! mkdir -p {WF_TEST_RESULTS_DIR}\n",
    "WF_TEST_RESULTS_DIR"
   ],
   "metadata": {
    "collapsed": false,
    "pycharm": {
     "name": "#%%\n"
    }
   }
  },
  {
   "cell_type": "code",
   "execution_count": 94,
   "outputs": [
    {
     "data": {
      "text/plain": "'/Users/mbaumann/Repos/mbaumann-broad/test_results/submission_c2557d8e-db40-4bac-8005-4488c5dd290c/workflow-logs'"
     },
     "execution_count": 94,
     "metadata": {},
     "output_type": "execute_result"
    }
   ],
   "source": [
    "WF_TEST_RESULTS_WORKFLOW_LOGS_DIR=os.path.join(WF_TEST_RESULTS_DIR, \"workflow-logs\")\n",
    "WF_TEST_RESULTS_WORKFLOW_LOGS_DIR"
   ],
   "metadata": {
    "collapsed": false,
    "pycharm": {
     "name": "#%%\n"
    }
   }
  },
  {
   "cell_type": "code",
   "execution_count": 95,
   "outputs": [
    {
     "data": {
      "text/plain": "'/Users/mbaumann/Repos/mbaumann-broad/test_results/submission_c2557d8e-db40-4bac-8005-4488c5dd290c/monitoring_data_20220321_042340'"
     },
     "execution_count": 95,
     "metadata": {},
     "output_type": "execute_result"
    }
   ],
   "source": [
    "MONITORING_OUTPUT_DIR=os.path.join(WF_TEST_RESULTS_DIR,\n",
    "                                   f\"monitoring_data_{datetime.strptime(WF_START_TIME, '%Y/%m/%d %H:%M:%S').strftime('%Y%m%d_%H%M%S')}\")\n",
    "! mkdir -p {MONITORING_OUTPUT_DIR}\n",
    "MONITORING_OUTPUT_DIR"
   ],
   "metadata": {
    "collapsed": false,
    "pycharm": {
     "name": "#%%\n"
    }
   }
  },
  {
   "cell_type": "code",
   "execution_count": 96,
   "outputs": [
    {
     "data": {
      "text/plain": "'/Users/mbaumann/Repos/mbaumann-broad/terra-workflow-scale-test-tools/scripts'"
     },
     "execution_count": 96,
     "metadata": {},
     "output_type": "execute_result"
    }
   ],
   "source": [
    "SCRIPTS=Path(\"./terra-workflow-scale-test-tools/scripts\").resolve().as_posix()\n",
    "SCRIPTS"
   ],
   "metadata": {
    "collapsed": false,
    "pycharm": {
     "name": "#%%\n"
    }
   }
  },
  {
   "cell_type": "markdown",
   "source": [
    "# Functions"
   ],
   "metadata": {
    "collapsed": false,
    "pycharm": {
     "name": "#%% md\n"
    }
   }
  },
  {
   "cell_type": "code",
   "execution_count": 97,
   "outputs": [],
   "source": [
    "def start_monitoring_background_process() -> psutil.Process:\n",
    "    print(\"Starting monitoring background process ...\")\n",
    "    process = psutil.Popen([\"python3\", f\"{SCRIPTS}/monitor_response_times.py\", \"--output-dir\", f\"{MONITORING_OUTPUT_DIR}\" ])\n",
    "    print(f\"Started {process}\")\n",
    "    return process"
   ],
   "metadata": {
    "collapsed": false,
    "pycharm": {
     "name": "#%%\n"
    }
   }
  },
  {
   "cell_type": "code",
   "execution_count": 98,
   "outputs": [],
   "source": [
    "def stop_monitoring_background_process(process: psutil.Process) -> None:\n",
    "    print(\"Stopping monitoring background process ...\")\n",
    "    process.terminate()\n",
    "    process.wait(60)\n",
    "    print(\"Stopped monitoring background process.\")"
   ],
   "metadata": {
    "collapsed": false,
    "pycharm": {
     "name": "#%%\n"
    }
   }
  },
  {
   "cell_type": "code",
   "execution_count": 99,
   "outputs": [],
   "source": [
    "def wait_for_workflow_to_complete() -> None:\n",
    "    # TODO Implement this\n",
    "    pretend_duration = 60\n",
    "    print(f\"Pretending to wait for workflow to complete by sleeping {pretend_duration} seconds ...\")\n",
    "    time.sleep(pretend_duration)\n",
    "    print(\"Pretending workflow is complete!\")"
   ],
   "metadata": {
    "collapsed": false,
    "pycharm": {
     "name": "#%%\n"
    }
   }
  },
  {
   "cell_type": "markdown",
   "source": [
    "# Monitor response times during workflow execution"
   ],
   "metadata": {
    "collapsed": false,
    "pycharm": {
     "name": "#%% md\n"
    }
   }
  },
  {
   "cell_type": "code",
   "execution_count": 100,
   "outputs": [
    {
     "name": "stdout",
     "output_type": "stream",
     "text": [
      "Starting monitoring background process ...\n",
      "Started psutil.Popen(pid=58349, name='python3.9', status='running', started='21:23:41')\n",
      "Pretending to wait for workflow to complete by sleeping 60 seconds ...\n",
      "Pretending workflow is complete!\n",
      "Stopping monitoring background process ...\n",
      "Stopped monitoring background process.\n"
     ]
    }
   ],
   "source": [
    "if monitor_workflow:\n",
    "    monitoring_process = start_monitoring_background_process()\n",
    "\n",
    "    wait_for_workflow_to_complete()\n",
    "\n",
    "    stop_monitoring_background_process(monitoring_process)"
   ],
   "metadata": {
    "collapsed": false,
    "pycharm": {
     "name": "#%%\n"
    }
   }
  },
  {
   "cell_type": "markdown",
   "source": [
    "# Copy workflow logs from the workspace bucket to the local filesystem"
   ],
   "metadata": {
    "collapsed": false,
    "pycharm": {
     "name": "#%% md\n"
    }
   }
  },
  {
   "cell_type": "code",
   "execution_count": 101,
   "outputs": [
    {
     "name": "stdout",
     "output_type": "stream",
     "text": [
      "+ parse_options -s gs://fc-26863db0-1fe6-463b-a05b-9f8c8cb33dac/c2557d8e-db40-4bac-8005-4488c5dd290c -d /Users/mbaumann/Repos/mbaumann-broad/test_results/submission_c2557d8e-db40-4bac-8005-4488c5dd290c/workflow-logs\r\n",
      "+ local OPTIND\r\n",
      "+ getopts s:d: o\r\n",
      "+ case \"${o}\" in\r\n",
      "+ GCS_SUBMISSION_FOLDER=gs://fc-26863db0-1fe6-463b-a05b-9f8c8cb33dac/c2557d8e-db40-4bac-8005-4488c5dd290c\r\n",
      "+ getopts s:d: o\r\n",
      "+ case \"${o}\" in\r\n",
      "+ WORKFLOW_LOG_DIR=/Users/mbaumann/Repos/mbaumann-broad/test_results/submission_c2557d8e-db40-4bac-8005-4488c5dd290c/workflow-logs\r\n",
      "+ getopts s:d: o\r\n",
      "+ shift 4\r\n",
      "+ '[' -z gs://fc-26863db0-1fe6-463b-a05b-9f8c8cb33dac/c2557d8e-db40-4bac-8005-4488c5dd290c ']'\r\n",
      "+ '[' -z /Users/mbaumann/Repos/mbaumann-broad/test_results/submission_c2557d8e-db40-4bac-8005-4488c5dd290c/workflow-logs ']'\r\n",
      "+ echo GCS_SUBMISSION_FOLDER=gs://fc-26863db0-1fe6-463b-a05b-9f8c8cb33dac/c2557d8e-db40-4bac-8005-4488c5dd290c\r\n",
      "GCS_SUBMISSION_FOLDER=gs://fc-26863db0-1fe6-463b-a05b-9f8c8cb33dac/c2557d8e-db40-4bac-8005-4488c5dd290c\r\n",
      "+ echo WORKFLOW_LOG_DIR=/Users/mbaumann/Repos/mbaumann-broad/test_results/submission_c2557d8e-db40-4bac-8005-4488c5dd290c/workflow-logs\r\n",
      "WORKFLOW_LOG_DIR=/Users/mbaumann/Repos/mbaumann-broad/test_results/submission_c2557d8e-db40-4bac-8005-4488c5dd290c/workflow-logs\r\n",
      "+ configure_for_workflow_shape gs://fc-26863db0-1fe6-463b-a05b-9f8c8cb33dac/c2557d8e-db40-4bac-8005-4488c5dd290c\r\n",
      "+ gsutil ls gs://fc-26863db0-1fe6-463b-a05b-9f8c8cb33dac/c2557d8e-db40-4bac-8005-4488c5dd290c/ga4ghMd5\r\n",
      "+ gsutil ls gs://fc-26863db0-1fe6-463b-a05b-9f8c8cb33dac/c2557d8e-db40-4bac-8005-4488c5dd290c/md5_n_by_m_scatter\r\n",
      "+ configure_for_wf_shape2\r\n",
      "+ WF_NAME=md5_n_by_m_scatter\r\n",
      "+ WF_TASK_NAME=call-md5s\r\n",
      "+ WF_DRS_LOG_FILENAME='*.log'\r\n",
      "+ GSUTIL_DRS_LOG_PATH='gs://fc-26863db0-1fe6-463b-a05b-9f8c8cb33dac/c2557d8e-db40-4bac-8005-4488c5dd290c/md5_n_by_m_scatter/**/call-md5s/**/*.log'\r\n",
      "+ mkdir -p /Users/mbaumann/Repos/mbaumann-broad/test_results/submission_c2557d8e-db40-4bac-8005-4488c5dd290c/workflow-logs\r\n",
      "+ DRS_LOG_LIST=/Users/mbaumann/Repos/mbaumann-broad/test_results/submission_c2557d8e-db40-4bac-8005-4488c5dd290c/workflow-logs/drs_log_list.txt\r\n",
      "+ gsutil ls -r 'gs://fc-26863db0-1fe6-463b-a05b-9f8c8cb33dac/c2557d8e-db40-4bac-8005-4488c5dd290c/md5_n_by_m_scatter/**/call-md5s/**/*.log'\r\n",
      "\r\n",
      "real\t0m3.385s\r\n",
      "user\t0m1.003s\r\n",
      "sys\t0m0.308s\r\n",
      "+ wc -l /Users/mbaumann/Repos/mbaumann-broad/test_results/submission_c2557d8e-db40-4bac-8005-4488c5dd290c/workflow-logs/drs_log_list.txt\r\n",
      "      10 /Users/mbaumann/Repos/mbaumann-broad/test_results/submission_c2557d8e-db40-4bac-8005-4488c5dd290c/workflow-logs/drs_log_list.txt\r\n",
      "+ copy_gcs_uris_to_local_fs /Users/mbaumann/Repos/mbaumann-broad/test_results/submission_c2557d8e-db40-4bac-8005-4488c5dd290c/workflow-logs/drs_log_list.txt /Users/mbaumann/Repos/mbaumann-broad/test_results/submission_c2557d8e-db40-4bac-8005-4488c5dd290c/workflow-logs\r\n",
      "+ gcs_uris_file=/Users/mbaumann/Repos/mbaumann-broad/test_results/submission_c2557d8e-db40-4bac-8005-4488c5dd290c/workflow-logs/drs_log_list.txt\r\n",
      "+ local_fs_dest_dir=/Users/mbaumann/Repos/mbaumann-broad/test_results/submission_c2557d8e-db40-4bac-8005-4488c5dd290c/workflow-logs\r\n",
      "+ MAX_CONCURRENT_GSUTIL_PROCS=20\r\n",
      "+ GSUTIL_COPY_ARGS_FILE=/Users/mbaumann/Repos/mbaumann-broad/test_results/submission_c2557d8e-db40-4bac-8005-4488c5dd290c/workflow-logs/drs_log_gsutil_copy_args.txt\r\n",
      "+ rm -f /Users/mbaumann/Repos/mbaumann-broad/test_results/submission_c2557d8e-db40-4bac-8005-4488c5dd290c/workflow-logs/drs_log_gsutil_copy_args.txt\r\n",
      "+ read -r drs_log_gcs_uri\r\n",
      "++ echo gs://fc-26863db0-1fe6-463b-a05b-9f8c8cb33dac/c2557d8e-db40-4bac-8005-4488c5dd290c/md5_n_by_m_scatter/2a273078-0329-4328-9434-48a6253ee6af/call-md5s/shard-0/md5s-0.log\r\n",
      "++ cut -d / -f 4-\r\n",
      "+ uri_path=c2557d8e-db40-4bac-8005-4488c5dd290c/md5_n_by_m_scatter/2a273078-0329-4328-9434-48a6253ee6af/call-md5s/shard-0/md5s-0.log\r\n",
      "+ local_path=/Users/mbaumann/Repos/mbaumann-broad/test_results/submission_c2557d8e-db40-4bac-8005-4488c5dd290c/workflow-logs/c2557d8e-db40-4bac-8005-4488c5dd290c/md5_n_by_m_scatter/2a273078-0329-4328-9434-48a6253ee6af/call-md5s/shard-0/md5s-0.log\r\n",
      "+ echo 'gs://fc-26863db0-1fe6-463b-a05b-9f8c8cb33dac/c2557d8e-db40-4bac-8005-4488c5dd290c/md5_n_by_m_scatter/2a273078-0329-4328-9434-48a6253ee6af/call-md5s/shard-0/md5s-0.log /Users/mbaumann/Repos/mbaumann-broad/test_results/submission_c2557d8e-db40-4bac-8005-4488c5dd290c/workflow-logs/c2557d8e-db40-4bac-8005-4488c5dd290c/md5_n_by_m_scatter/2a273078-0329-4328-9434-48a6253ee6af/call-md5s/shard-0/md5s-0.log'\r\n",
      "+ read -r drs_log_gcs_uri\r\n",
      "++ echo gs://fc-26863db0-1fe6-463b-a05b-9f8c8cb33dac/c2557d8e-db40-4bac-8005-4488c5dd290c/md5_n_by_m_scatter/2a273078-0329-4328-9434-48a6253ee6af/call-md5s/shard-1/md5s-1.log\r\n",
      "++ cut -d / -f 4-\r\n",
      "+ uri_path=c2557d8e-db40-4bac-8005-4488c5dd290c/md5_n_by_m_scatter/2a273078-0329-4328-9434-48a6253ee6af/call-md5s/shard-1/md5s-1.log\r\n",
      "+ local_path=/Users/mbaumann/Repos/mbaumann-broad/test_results/submission_c2557d8e-db40-4bac-8005-4488c5dd290c/workflow-logs/c2557d8e-db40-4bac-8005-4488c5dd290c/md5_n_by_m_scatter/2a273078-0329-4328-9434-48a6253ee6af/call-md5s/shard-1/md5s-1.log\r\n",
      "+ echo 'gs://fc-26863db0-1fe6-463b-a05b-9f8c8cb33dac/c2557d8e-db40-4bac-8005-4488c5dd290c/md5_n_by_m_scatter/2a273078-0329-4328-9434-48a6253ee6af/call-md5s/shard-1/md5s-1.log /Users/mbaumann/Repos/mbaumann-broad/test_results/submission_c2557d8e-db40-4bac-8005-4488c5dd290c/workflow-logs/c2557d8e-db40-4bac-8005-4488c5dd290c/md5_n_by_m_scatter/2a273078-0329-4328-9434-48a6253ee6af/call-md5s/shard-1/md5s-1.log'\r\n",
      "+ read -r drs_log_gcs_uri\r\n",
      "++ echo gs://fc-26863db0-1fe6-463b-a05b-9f8c8cb33dac/c2557d8e-db40-4bac-8005-4488c5dd290c/md5_n_by_m_scatter/2a273078-0329-4328-9434-48a6253ee6af/call-md5s/shard-2/md5s-2.log\r\n",
      "++ cut -d / -f 4-\r\n",
      "+ uri_path=c2557d8e-db40-4bac-8005-4488c5dd290c/md5_n_by_m_scatter/2a273078-0329-4328-9434-48a6253ee6af/call-md5s/shard-2/md5s-2.log\r\n",
      "+ local_path=/Users/mbaumann/Repos/mbaumann-broad/test_results/submission_c2557d8e-db40-4bac-8005-4488c5dd290c/workflow-logs/c2557d8e-db40-4bac-8005-4488c5dd290c/md5_n_by_m_scatter/2a273078-0329-4328-9434-48a6253ee6af/call-md5s/shard-2/md5s-2.log\r\n",
      "+ echo 'gs://fc-26863db0-1fe6-463b-a05b-9f8c8cb33dac/c2557d8e-db40-4bac-8005-4488c5dd290c/md5_n_by_m_scatter/2a273078-0329-4328-9434-48a6253ee6af/call-md5s/shard-2/md5s-2.log /Users/mbaumann/Repos/mbaumann-broad/test_results/submission_c2557d8e-db40-4bac-8005-4488c5dd290c/workflow-logs/c2557d8e-db40-4bac-8005-4488c5dd290c/md5_n_by_m_scatter/2a273078-0329-4328-9434-48a6253ee6af/call-md5s/shard-2/md5s-2.log'\r\n",
      "+ read -r drs_log_gcs_uri\r\n",
      "++ echo gs://fc-26863db0-1fe6-463b-a05b-9f8c8cb33dac/c2557d8e-db40-4bac-8005-4488c5dd290c/md5_n_by_m_scatter/2a273078-0329-4328-9434-48a6253ee6af/call-md5s/shard-3/md5s-3.log\r\n",
      "++ cut -d / -f 4-\r\n",
      "+ uri_path=c2557d8e-db40-4bac-8005-4488c5dd290c/md5_n_by_m_scatter/2a273078-0329-4328-9434-48a6253ee6af/call-md5s/shard-3/md5s-3.log\r\n",
      "+ local_path=/Users/mbaumann/Repos/mbaumann-broad/test_results/submission_c2557d8e-db40-4bac-8005-4488c5dd290c/workflow-logs/c2557d8e-db40-4bac-8005-4488c5dd290c/md5_n_by_m_scatter/2a273078-0329-4328-9434-48a6253ee6af/call-md5s/shard-3/md5s-3.log\r\n",
      "+ echo 'gs://fc-26863db0-1fe6-463b-a05b-9f8c8cb33dac/c2557d8e-db40-4bac-8005-4488c5dd290c/md5_n_by_m_scatter/2a273078-0329-4328-9434-48a6253ee6af/call-md5s/shard-3/md5s-3.log /Users/mbaumann/Repos/mbaumann-broad/test_results/submission_c2557d8e-db40-4bac-8005-4488c5dd290c/workflow-logs/c2557d8e-db40-4bac-8005-4488c5dd290c/md5_n_by_m_scatter/2a273078-0329-4328-9434-48a6253ee6af/call-md5s/shard-3/md5s-3.log'\r\n",
      "+ read -r drs_log_gcs_uri\r\n",
      "++ echo gs://fc-26863db0-1fe6-463b-a05b-9f8c8cb33dac/c2557d8e-db40-4bac-8005-4488c5dd290c/md5_n_by_m_scatter/2a273078-0329-4328-9434-48a6253ee6af/call-md5s/shard-4/md5s-4.log\r\n",
      "++ cut -d / -f 4-\r\n",
      "+ uri_path=c2557d8e-db40-4bac-8005-4488c5dd290c/md5_n_by_m_scatter/2a273078-0329-4328-9434-48a6253ee6af/call-md5s/shard-4/md5s-4.log\r\n",
      "+ local_path=/Users/mbaumann/Repos/mbaumann-broad/test_results/submission_c2557d8e-db40-4bac-8005-4488c5dd290c/workflow-logs/c2557d8e-db40-4bac-8005-4488c5dd290c/md5_n_by_m_scatter/2a273078-0329-4328-9434-48a6253ee6af/call-md5s/shard-4/md5s-4.log\r\n",
      "+ echo 'gs://fc-26863db0-1fe6-463b-a05b-9f8c8cb33dac/c2557d8e-db40-4bac-8005-4488c5dd290c/md5_n_by_m_scatter/2a273078-0329-4328-9434-48a6253ee6af/call-md5s/shard-4/md5s-4.log /Users/mbaumann/Repos/mbaumann-broad/test_results/submission_c2557d8e-db40-4bac-8005-4488c5dd290c/workflow-logs/c2557d8e-db40-4bac-8005-4488c5dd290c/md5_n_by_m_scatter/2a273078-0329-4328-9434-48a6253ee6af/call-md5s/shard-4/md5s-4.log'\r\n",
      "+ read -r drs_log_gcs_uri\r\n",
      "++ echo gs://fc-26863db0-1fe6-463b-a05b-9f8c8cb33dac/c2557d8e-db40-4bac-8005-4488c5dd290c/md5_n_by_m_scatter/2a273078-0329-4328-9434-48a6253ee6af/call-md5s/shard-5/md5s-5.log\r\n",
      "++ cut -d / -f 4-\r\n",
      "+ uri_path=c2557d8e-db40-4bac-8005-4488c5dd290c/md5_n_by_m_scatter/2a273078-0329-4328-9434-48a6253ee6af/call-md5s/shard-5/md5s-5.log\r\n",
      "+ local_path=/Users/mbaumann/Repos/mbaumann-broad/test_results/submission_c2557d8e-db40-4bac-8005-4488c5dd290c/workflow-logs/c2557d8e-db40-4bac-8005-4488c5dd290c/md5_n_by_m_scatter/2a273078-0329-4328-9434-48a6253ee6af/call-md5s/shard-5/md5s-5.log\r\n",
      "+ echo 'gs://fc-26863db0-1fe6-463b-a05b-9f8c8cb33dac/c2557d8e-db40-4bac-8005-4488c5dd290c/md5_n_by_m_scatter/2a273078-0329-4328-9434-48a6253ee6af/call-md5s/shard-5/md5s-5.log /Users/mbaumann/Repos/mbaumann-broad/test_results/submission_c2557d8e-db40-4bac-8005-4488c5dd290c/workflow-logs/c2557d8e-db40-4bac-8005-4488c5dd290c/md5_n_by_m_scatter/2a273078-0329-4328-9434-48a6253ee6af/call-md5s/shard-5/md5s-5.log'\r\n",
      "+ read -r drs_log_gcs_uri\r\n",
      "++ echo gs://fc-26863db0-1fe6-463b-a05b-9f8c8cb33dac/c2557d8e-db40-4bac-8005-4488c5dd290c/md5_n_by_m_scatter/2a273078-0329-4328-9434-48a6253ee6af/call-md5s/shard-6/md5s-6.log\r\n",
      "++ cut -d / -f 4-\r\n",
      "+ uri_path=c2557d8e-db40-4bac-8005-4488c5dd290c/md5_n_by_m_scatter/2a273078-0329-4328-9434-48a6253ee6af/call-md5s/shard-6/md5s-6.log\r\n",
      "+ local_path=/Users/mbaumann/Repos/mbaumann-broad/test_results/submission_c2557d8e-db40-4bac-8005-4488c5dd290c/workflow-logs/c2557d8e-db40-4bac-8005-4488c5dd290c/md5_n_by_m_scatter/2a273078-0329-4328-9434-48a6253ee6af/call-md5s/shard-6/md5s-6.log\r\n",
      "+ echo 'gs://fc-26863db0-1fe6-463b-a05b-9f8c8cb33dac/c2557d8e-db40-4bac-8005-4488c5dd290c/md5_n_by_m_scatter/2a273078-0329-4328-9434-48a6253ee6af/call-md5s/shard-6/md5s-6.log /Users/mbaumann/Repos/mbaumann-broad/test_results/submission_c2557d8e-db40-4bac-8005-4488c5dd290c/workflow-logs/c2557d8e-db40-4bac-8005-4488c5dd290c/md5_n_by_m_scatter/2a273078-0329-4328-9434-48a6253ee6af/call-md5s/shard-6/md5s-6.log'\r\n",
      "+ read -r drs_log_gcs_uri\r\n",
      "++ echo gs://fc-26863db0-1fe6-463b-a05b-9f8c8cb33dac/c2557d8e-db40-4bac-8005-4488c5dd290c/md5_n_by_m_scatter/2a273078-0329-4328-9434-48a6253ee6af/call-md5s/shard-7/md5s-7.log\r\n",
      "++ cut -d / -f 4-\r\n",
      "+ uri_path=c2557d8e-db40-4bac-8005-4488c5dd290c/md5_n_by_m_scatter/2a273078-0329-4328-9434-48a6253ee6af/call-md5s/shard-7/md5s-7.log\r\n",
      "+ local_path=/Users/mbaumann/Repos/mbaumann-broad/test_results/submission_c2557d8e-db40-4bac-8005-4488c5dd290c/workflow-logs/c2557d8e-db40-4bac-8005-4488c5dd290c/md5_n_by_m_scatter/2a273078-0329-4328-9434-48a6253ee6af/call-md5s/shard-7/md5s-7.log\r\n",
      "+ echo 'gs://fc-26863db0-1fe6-463b-a05b-9f8c8cb33dac/c2557d8e-db40-4bac-8005-4488c5dd290c/md5_n_by_m_scatter/2a273078-0329-4328-9434-48a6253ee6af/call-md5s/shard-7/md5s-7.log /Users/mbaumann/Repos/mbaumann-broad/test_results/submission_c2557d8e-db40-4bac-8005-4488c5dd290c/workflow-logs/c2557d8e-db40-4bac-8005-4488c5dd290c/md5_n_by_m_scatter/2a273078-0329-4328-9434-48a6253ee6af/call-md5s/shard-7/md5s-7.log'\r\n",
      "+ read -r drs_log_gcs_uri\r\n",
      "++ echo gs://fc-26863db0-1fe6-463b-a05b-9f8c8cb33dac/c2557d8e-db40-4bac-8005-4488c5dd290c/md5_n_by_m_scatter/2a273078-0329-4328-9434-48a6253ee6af/call-md5s/shard-8/md5s-8.log\r\n",
      "++ cut -d / -f 4-\r\n",
      "+ uri_path=c2557d8e-db40-4bac-8005-4488c5dd290c/md5_n_by_m_scatter/2a273078-0329-4328-9434-48a6253ee6af/call-md5s/shard-8/md5s-8.log\r\n",
      "+ local_path=/Users/mbaumann/Repos/mbaumann-broad/test_results/submission_c2557d8e-db40-4bac-8005-4488c5dd290c/workflow-logs/c2557d8e-db40-4bac-8005-4488c5dd290c/md5_n_by_m_scatter/2a273078-0329-4328-9434-48a6253ee6af/call-md5s/shard-8/md5s-8.log\r\n",
      "+ echo 'gs://fc-26863db0-1fe6-463b-a05b-9f8c8cb33dac/c2557d8e-db40-4bac-8005-4488c5dd290c/md5_n_by_m_scatter/2a273078-0329-4328-9434-48a6253ee6af/call-md5s/shard-8/md5s-8.log /Users/mbaumann/Repos/mbaumann-broad/test_results/submission_c2557d8e-db40-4bac-8005-4488c5dd290c/workflow-logs/c2557d8e-db40-4bac-8005-4488c5dd290c/md5_n_by_m_scatter/2a273078-0329-4328-9434-48a6253ee6af/call-md5s/shard-8/md5s-8.log'\r\n",
      "+ read -r drs_log_gcs_uri\r\n",
      "++ echo gs://fc-26863db0-1fe6-463b-a05b-9f8c8cb33dac/c2557d8e-db40-4bac-8005-4488c5dd290c/md5_n_by_m_scatter/2a273078-0329-4328-9434-48a6253ee6af/call-md5s/shard-9/md5s-9.log\r\n",
      "++ cut -d / -f 4-\r\n",
      "+ uri_path=c2557d8e-db40-4bac-8005-4488c5dd290c/md5_n_by_m_scatter/2a273078-0329-4328-9434-48a6253ee6af/call-md5s/shard-9/md5s-9.log\r\n",
      "+ local_path=/Users/mbaumann/Repos/mbaumann-broad/test_results/submission_c2557d8e-db40-4bac-8005-4488c5dd290c/workflow-logs/c2557d8e-db40-4bac-8005-4488c5dd290c/md5_n_by_m_scatter/2a273078-0329-4328-9434-48a6253ee6af/call-md5s/shard-9/md5s-9.log\r\n",
      "+ echo 'gs://fc-26863db0-1fe6-463b-a05b-9f8c8cb33dac/c2557d8e-db40-4bac-8005-4488c5dd290c/md5_n_by_m_scatter/2a273078-0329-4328-9434-48a6253ee6af/call-md5s/shard-9/md5s-9.log /Users/mbaumann/Repos/mbaumann-broad/test_results/submission_c2557d8e-db40-4bac-8005-4488c5dd290c/workflow-logs/c2557d8e-db40-4bac-8005-4488c5dd290c/md5_n_by_m_scatter/2a273078-0329-4328-9434-48a6253ee6af/call-md5s/shard-9/md5s-9.log'\r\n",
      "+ read -r drs_log_gcs_uri\r\n",
      "+ wc -l /Users/mbaumann/Repos/mbaumann-broad/test_results/submission_c2557d8e-db40-4bac-8005-4488c5dd290c/workflow-logs/drs_log_gsutil_copy_args.txt\r\n",
      "      10 /Users/mbaumann/Repos/mbaumann-broad/test_results/submission_c2557d8e-db40-4bac-8005-4488c5dd290c/workflow-logs/drs_log_gsutil_copy_args.txt\r\n",
      "+ xargs -P 20 -a /Users/mbaumann/Repos/mbaumann-broad/test_results/submission_c2557d8e-db40-4bac-8005-4488c5dd290c/workflow-logs/drs_log_gsutil_copy_args.txt -n 2 gsutil cp\r\n",
      "Copying gs://fc-26863db0-1fe6-463b-a05b-9f8c8cb33dac/c2557d8e-db40-4bac-8005-4488c5dd290c/md5_n_by_m_scatter/2a273078-0329-4328-9434-48a6253ee6af/call-md5s/shard-6/md5s-6.log...\r\n",
      "Copying gs://fc-26863db0-1fe6-463b-a05b-9f8c8cb33dac/c2557d8e-db40-4bac-8005-4488c5dd290c/md5_n_by_m_scatter/2a273078-0329-4328-9434-48a6253ee6af/call-md5s/shard-3/md5s-3.log...\r\n",
      "Copying gs://fc-26863db0-1fe6-463b-a05b-9f8c8cb33dac/c2557d8e-db40-4bac-8005-4488c5dd290c/md5_n_by_m_scatter/2a273078-0329-4328-9434-48a6253ee6af/call-md5s/shard-2/md5s-2.log...\r\n",
      "Copying gs://fc-26863db0-1fe6-463b-a05b-9f8c8cb33dac/c2557d8e-db40-4bac-8005-4488c5dd290c/md5_n_by_m_scatter/2a273078-0329-4328-9434-48a6253ee6af/call-md5s/shard-8/md5s-8.log...\r\n",
      "Copying gs://fc-26863db0-1fe6-463b-a05b-9f8c8cb33dac/c2557d8e-db40-4bac-8005-4488c5dd290c/md5_n_by_m_scatter/2a273078-0329-4328-9434-48a6253ee6af/call-md5s/shard-9/md5s-9.log...\r\n",
      "Copying gs://fc-26863db0-1fe6-463b-a05b-9f8c8cb33dac/c2557d8e-db40-4bac-8005-4488c5dd290c/md5_n_by_m_scatter/2a273078-0329-4328-9434-48a6253ee6af/call-md5s/shard-7/md5s-7.log...\r\n",
      "Copying gs://fc-26863db0-1fe6-463b-a05b-9f8c8cb33dac/c2557d8e-db40-4bac-8005-4488c5dd290c/md5_n_by_m_scatter/2a273078-0329-4328-9434-48a6253ee6af/call-md5s/shard-0/md5s-0.log...\r\n",
      "Copying gs://fc-26863db0-1fe6-463b-a05b-9f8c8cb33dac/c2557d8e-db40-4bac-8005-4488c5dd290c/md5_n_by_m_scatter/2a273078-0329-4328-9434-48a6253ee6af/call-md5s/shard-4/md5s-4.log...\r\n",
      "Copying gs://fc-26863db0-1fe6-463b-a05b-9f8c8cb33dac/c2557d8e-db40-4bac-8005-4488c5dd290c/md5_n_by_m_scatter/2a273078-0329-4328-9434-48a6253ee6af/call-md5s/shard-5/md5s-5.log...\r\n",
      "Copying gs://fc-26863db0-1fe6-463b-a05b-9f8c8cb33dac/c2557d8e-db40-4bac-8005-4488c5dd290c/md5_n_by_m_scatter/2a273078-0329-4328-9434-48a6253ee6af/call-md5s/shard-1/md5s-1.log...\r\n",
      "- [1 files][  9.6 KiB/  9.6 KiB]                                                \r\n",
      "Operation completed over 1 objects/9.6 KiB.                                      \r\n",
      "- [1 files][  9.6 KiB/  9.6 KiB]                                                \r\n",
      "Operation completed over 1 objects/9.6 KiB.                                      \r\n",
      "/ [1 files][  9.6 KiB/  9.6 KiB]                                                \r\n",
      "Operation completed over 1 objects/9.6 KiB.                                      \r\n",
      "- [1 files][  9.6 KiB/  9.6 KiB]                                                \r\n",
      "Operation completed over 1 objects/9.6 KiB.                                      \r\n",
      "\r\n",
      "Operation completed over 1 objects/9.6 KiB.                                      \r\n",
      "- [1 files][  9.6 KiB/  9.6 KiB]                                                \r\n",
      "Operation completed over 1 objects/9.6 KiB.                                      \r\n",
      "- [1 files][  9.6 KiB/  9.6 KiB]                                                \r\n",
      "Operation completed over 1 objects/9.6 KiB.                                      \r\n",
      "-\r[0 files][  9.6 KiB/  9.6 KiB]                                                - [1 files][  9.6 KiB/  9.6 KiB]                                                \r\n",
      "Operation completed over 1 objects/9.6 KiB.                                      \r\n",
      "- [1 files][  9.6 KiB/  9.6 KiB]                                                \r\n",
      "Operation completed over 1 objects/9.6 KiB.                                      \r\n",
      "- [1 files][  9.6 KiB/  9.6 KiB]                                                \r\n",
      "Operation completed over 1 objects/9.6 KiB.                                      \r\n",
      "\r\n",
      "real\t0m5.111s\r\n",
      "user\t0m17.324s\r\n",
      "sys\t0m5.497s\r\n",
      "+ echo 'Done!'\r\n",
      "Done!\r\n"
     ]
    }
   ],
   "source": [
    "if copy_workflow_logs:\n",
    "    workflow_logs_path = Path(WF_TEST_RESULTS_WORKFLOW_LOGS_DIR)\n",
    "    if not workflow_logs_path.exists():\n",
    "        # Copy the logs - this can take a long time (tens of minutes to hours)\n",
    "        ! {SCRIPTS}/copy_workflow_logs_to_local_fs.sh -s {WS_WF_GS_URI} -d {WF_TEST_RESULTS_WORKFLOW_LOGS_DIR}\n",
    "    else:\n",
    "        print(f\"The workflow-logs directory already exists: {WF_TEST_RESULTS_WORKFLOW_LOGS_DIR}\")\n",
    "        print(\"Skipping copy of the workflow logs.\")\n"
   ],
   "metadata": {
    "collapsed": false,
    "pycharm": {
     "name": "#%%\n"
    }
   }
  },
  {
   "cell_type": "code",
   "execution_count": 102,
   "outputs": [],
   "source": [
    "if extract_timeseries_data:\n",
    "    ! {SCRIPTS}/extract_drs_localization_timestamps_from_local_fs.sh {WF_TEST_RESULTS_DIR}\n",
    "    "
   ],
   "metadata": {
    "collapsed": false,
    "pycharm": {
     "name": "#%%\n"
    }
   }
  },
  {
   "cell_type": "code",
   "execution_count": 103,
   "outputs": [],
   "source": [
    "if extract_timeseries_data:\n",
    "    ! {SCRIPTS}/extract_drs_localization_fallback_timestamps_from_local_fs.sh {WF_TEST_RESULTS_DIR}"
   ],
   "metadata": {
    "collapsed": false,
    "pycharm": {
     "name": "#%%\n"
    }
   }
  },
  {
   "cell_type": "markdown",
   "source": [
    "# Display the results of the workflow run"
   ],
   "metadata": {
    "collapsed": false,
    "pycharm": {
     "name": "#%% md\n"
    }
   }
  },
  {
   "cell_type": "markdown",
   "source": [
    "## Workflow DRS localization rates"
   ],
   "metadata": {
    "collapsed": false,
    "pycharm": {
     "name": "#%% md\n"
    }
   }
  },
  {
   "cell_type": "code",
   "execution_count": 104,
   "outputs": [],
   "source": [
    "if display_results:\n",
    "    %run {SCRIPTS}/graph_drs_data_access_rates.ipynb\n",
    "    f\"{WF_TEST_RESULTS_DIR}/drs_localization_timeseries.tsv\"\n",
    "    f\"{WF_TEST_RESULTS_DIR}/drs_localization_fallback_timeseries.tsv\""
   ],
   "metadata": {
    "collapsed": false,
    "pycharm": {
     "name": "#%%\n"
    }
   }
  },
  {
   "cell_type": "markdown",
   "source": [
    "## Service/endpoint response times"
   ],
   "metadata": {
    "collapsed": false,
    "pycharm": {
     "name": "#%% md\n"
    }
   }
  },
  {
   "cell_type": "code",
   "execution_count": 105,
   "outputs": [],
   "source": [
    "if display_results:\n",
    "    %run {SCRIPTS}/graph_response_time_data.ipynb TODO"
   ],
   "metadata": {
    "collapsed": false,
    "pycharm": {
     "name": "#%%\n"
    }
   }
  },
  {
   "cell_type": "markdown",
   "source": [],
   "metadata": {
    "collapsed": false,
    "pycharm": {
     "name": "#%% md\n"
    }
   }
  }
 ],
 "metadata": {
  "kernelspec": {
   "display_name": "Python 3",
   "language": "python",
   "name": "python3"
  },
  "language_info": {
   "codemirror_mode": {
    "name": "ipython",
    "version": 2
   },
   "file_extension": ".py",
   "mimetype": "text/x-python",
   "name": "python",
   "nbconvert_exporter": "python",
   "pygments_lexer": "ipython2",
   "version": "2.7.6"
  }
 },
 "nbformat": 4,
 "nbformat_minor": 0
}