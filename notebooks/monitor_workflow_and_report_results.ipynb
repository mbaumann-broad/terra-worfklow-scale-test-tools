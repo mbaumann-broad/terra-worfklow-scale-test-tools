{
 "cells": [
  {
   "cell_type": "markdown",
   "source": [
    "# monitor_workflow_and_report_results\n",
    "\n",
    "Top-level Notebook for monitoring and reporting results of workflow DRS data access scale tests."
   ],
   "metadata": {
    "collapsed": false,
    "pycharm": {
     "name": "#%% md\n"
    }
   }
  },
  {
   "cell_type": "markdown",
   "source": [
    "# Imports"
   ],
   "metadata": {
    "collapsed": false,
    "pycharm": {
     "name": "#%% md\n"
    }
   }
  },
  {
   "cell_type": "code",
   "execution_count": null,
   "outputs": [],
   "source": [
    "import os\n",
    "import sys\n",
    "import time\n",
    "from datetime import datetime\n",
    "from pathlib import Path\n",
    "\n",
    "import psutil"
   ],
   "metadata": {
    "collapsed": false,
    "pycharm": {
     "name": "#%%\n"
    }
   }
  },
  {
   "cell_type": "code",
   "execution_count": null,
   "outputs": [],
   "source": [
    "def add_scripts_to_python_search_path() -> None:\n",
    "    cwd = Path(os.getcwd())\n",
    "    for relative_path in [\"scripts\", \"terra-workflow-scale-test-tools/scripts\", \"../scripts\"]:\n",
    "        p = cwd / relative_path\n",
    "        if p.is_dir():\n",
    "            print(f\"Found scripts diretory: {p}\")\n",
    "            sys.path.insert(0, str(p.absolute()))\n",
    "            return\n",
    "    raise Exception(\"scripts directory not found\")\n",
    "add_scripts_to_python_search_path()\n",
    "sys.path"
   ],
   "metadata": {
    "collapsed": false,
    "pycharm": {
     "name": "#%%\n"
    }
   }
  },
  {
   "cell_type": "code",
   "execution_count": null,
   "outputs": [],
   "source": [
    "from workflow_info import WorkflowDAO"
   ],
   "metadata": {
    "collapsed": false,
    "pycharm": {
     "name": "#%%\n"
    }
   }
  },
  {
   "cell_type": "markdown",
   "source": [
    "# Optionally Configure for Local/External-to-Terra Development"
   ],
   "metadata": {
    "collapsed": false,
    "pycharm": {
     "name": "#%% md\n"
    }
   }
  },
  {
   "cell_type": "code",
   "execution_count": null,
   "outputs": [],
   "source": [
    "# Enable external development setup\n",
    "# TODO Set this to False for running in Terra Jupyter Cloud Environment.\n",
    "external_development=True\n",
    "if external_development:\n",
    "    print(f\"Initial CWD: {os.getcwd()}\")  # Debugging\n",
    "    %run ./terra-workflow-scale-test-tools/notebooks/external_development.ipynb\n",
    "print(f\"CWD: {os.getcwd()}\")  # Debugging\n",
    "print(f\"PATH: {os.getenv('PATH')}\")  # Debugging"
   ],
   "metadata": {
    "collapsed": false,
    "pycharm": {
     "name": "#%%\n"
    }
   }
  },
  {
   "cell_type": "markdown",
   "source": [
    "# Manual Input/Configuration\n",
    "\n",
    "Enter the workflow submission id, which is available from Job Manager\n",
    "after the workflow is started.\n",
    "For example:\n",
    "```\n",
    " WF_SUBMISSION_ID=\"1a72b974-00c4-4316-86d5-7a7b1045f9ef\"\n",
    "```"
   ],
   "metadata": {
    "collapsed": false,
    "pycharm": {
     "name": "#%% md\n"
    }
   }
  },
  {
   "cell_type": "code",
   "execution_count": null,
   "outputs": [],
   "source": [
    "#TODO Uncomment this line when using as a template Notebook\n",
    "# WF_SUBMISSION_ID = \"<Enter workflow submission id as shown above.>\"\n",
    "#WF_SUBMISSION_ID=\"1a72b974-00c4-4316-86d5-7a7b1045f9ef\"\n",
    "# md5_n_by_m_scatter 100 files\n",
    "WF_SUBMISSION_ID=\"32f74aa9-7779-4d28-aec7-641d26307beb\""
   ],
   "metadata": {
    "collapsed": false,
    "pycharm": {
     "name": "#%%\n"
    }
   }
  },
  {
   "cell_type": "markdown",
   "source": [
    "Enter the start time for the workflow using UTC/GMT in this format:\n",
    "```\n",
    "2022/02/19 01:33:05\n",
    "YYYY/MM/DD HH:MM:SS\n",
    "```\n",
    "\n",
    "For example, the current time in UTC in this format is:"
   ],
   "metadata": {
    "collapsed": false,
    "pycharm": {
     "name": "#%% md\n"
    }
   }
  },
  {
   "cell_type": "code",
   "execution_count": null,
   "outputs": [],
   "source": [
    "datetime.utcnow().strftime(\"%Y/%m/%d %H:%M:%S\")"
   ],
   "metadata": {
    "collapsed": false,
    "pycharm": {
     "name": "#%%\n"
    }
   }
  },
  {
   "cell_type": "code",
   "execution_count": null,
   "outputs": [],
   "source": [
    "#TODO Uncomment this line when using as a template Notebook\n",
    "# WF_START_TIME = \"<Enter UTC date/time in the format above.>\"\n",
    "WF_START_TIME = datetime.utcnow().strftime(\"%Y/%m/%d %H:%M:%S\")"
   ],
   "metadata": {
    "collapsed": false,
    "pycharm": {
     "name": "#%%\n"
    }
   }
  },
  {
   "cell_type": "code",
   "execution_count": null,
   "outputs": [],
   "source": [
    "WORKSPACE_NAMESPACE = os.getenv('WORKSPACE_NAMESPACE')\n",
    "WORKSPACE_NAME = os.getenv('WORKSPACE_NAME')"
   ],
   "metadata": {
    "collapsed": false,
    "pycharm": {
     "name": "#%%\n"
    }
   }
  },
  {
   "cell_type": "code",
   "execution_count": null,
   "outputs": [],
   "source": [
    "workflow_dao = WorkflowDAO(WORKSPACE_NAMESPACE, WORKSPACE_NAME, WF_SUBMISSION_ID)\n",
    "\n",
    "workflow_info = workflow_dao.get_workflow_info()\n",
    "# print(json.dumps(workflow_info, indent=4))\n",
    "print(f\"Workflow in process: {workflow_dao.is_in_process()}\")\n",
    "print(f\"Submission time: {workflow_dao.get_submission_time()}\")\n",
    "print(f\"Submission time: {workflow_dao.get_submission_time('%Y/%m/%d %H:%M:%S')}\")"
   ],
   "metadata": {
    "collapsed": false,
    "pycharm": {
     "name": "#%%\n"
    }
   }
  },
  {
   "cell_type": "markdown",
   "source": [
    "## Processing Steps to Run"
   ],
   "metadata": {
    "collapsed": false,
    "pycharm": {
     "name": "#%% md\n"
    }
   }
  },
  {
   "cell_type": "code",
   "execution_count": null,
   "outputs": [],
   "source": [
    "monitor_workflow=True\n",
    "copy_workflow_logs=True\n",
    "extract_timeseries_data=True\n",
    "display_results=True"
   ],
   "metadata": {
    "collapsed": false,
    "pycharm": {
     "name": "#%%\n"
    }
   }
  },
  {
   "cell_type": "markdown",
   "source": [
    "# Constants"
   ],
   "metadata": {
    "collapsed": false,
    "pycharm": {
     "name": "#%% md\n"
    }
   }
  },
  {
   "cell_type": "markdown",
   "source": [
    "## Data Access Rate Constants"
   ],
   "metadata": {
    "collapsed": false,
    "pycharm": {
     "name": "#%% md\n"
    }
   }
  },
  {
   "cell_type": "code",
   "execution_count": null,
   "outputs": [],
   "source": [
    "WORKSPACE_BUCKET=os.environ['WORKSPACE_BUCKET']\n",
    "WORKSPACE_BUCKET"
   ],
   "metadata": {
    "collapsed": false,
    "pycharm": {
     "name": "#%%\n"
    }
   }
  },
  {
   "cell_type": "code",
   "execution_count": null,
   "outputs": [],
   "source": [
    "WS_WF_GS_URI=f\"{WORKSPACE_BUCKET}/{WF_SUBMISSION_ID}\"\n",
    "WS_WF_GS_URI"
   ],
   "metadata": {
    "collapsed": false,
    "pycharm": {
     "name": "#%%\n"
    }
   }
  },
  {
   "cell_type": "code",
   "execution_count": null,
   "outputs": [],
   "source": [
    "TEST_RESULTS_DIR=Path('./test_results').resolve().as_posix()\n",
    "! mkdir -p \"{TEST_RESULTS_DIR}\"\n",
    "TEST_RESULTS_DIR"
   ],
   "metadata": {
    "collapsed": false,
    "pycharm": {
     "name": "#%%\n"
    }
   }
  },
  {
   "cell_type": "code",
   "execution_count": null,
   "outputs": [],
   "source": [
    "WF_TEST_RESULTS_DIR=os.path.join(TEST_RESULTS_DIR, f\"submission_{WF_SUBMISSION_ID}\")\n",
    "! mkdir -p \"{WF_TEST_RESULTS_DIR}\"\n",
    "WF_TEST_RESULTS_DIR"
   ],
   "metadata": {
    "collapsed": false,
    "pycharm": {
     "name": "#%%\n"
    }
   }
  },
  {
   "cell_type": "code",
   "execution_count": null,
   "outputs": [],
   "source": [
    "WF_TEST_RESULTS_WORKFLOW_LOGS_DIR=os.path.join(WF_TEST_RESULTS_DIR, \"workflow-logs\")\n",
    "WF_TEST_RESULTS_WORKFLOW_LOGS_DIR"
   ],
   "metadata": {
    "collapsed": false,
    "pycharm": {
     "name": "#%%\n"
    }
   }
  },
  {
   "cell_type": "markdown",
   "source": [
    "## Response Time Monitoring Constants"
   ],
   "metadata": {
    "collapsed": false,
    "pycharm": {
     "name": "#%% md\n"
    }
   }
  },
  {
   "cell_type": "markdown",
   "source": [
    "Currently supported values:  `BDC`"
   ],
   "metadata": {
    "collapsed": false,
    "pycharm": {
     "name": "#%% md\n"
    }
   }
  },
  {
   "cell_type": "code",
   "execution_count": null,
   "outputs": [],
   "source": [],
   "metadata": {
    "collapsed": false,
    "pycharm": {
     "name": "#%%\n"
    }
   }
  },
  {
   "cell_type": "code",
   "execution_count": null,
   "outputs": [],
   "source": [
    "PROJECT_TO_MONITOR=\"BDC\""
   ],
   "metadata": {
    "collapsed": false,
    "pycharm": {
     "name": "#%%\n"
    }
   }
  },
  {
   "cell_type": "markdown",
   "source": [
    "Currently supported values: `DEV`"
   ],
   "metadata": {
    "collapsed": false,
    "pycharm": {
     "name": "#%% md\n"
    }
   }
  },
  {
   "cell_type": "code",
   "execution_count": null,
   "outputs": [],
   "source": [
    "TERRA_DEPLOYMENT_TIER=\"ALPHA\""
   ],
   "metadata": {
    "collapsed": false,
    "pycharm": {
     "name": "#%%\n"
    }
   }
  },
  {
   "cell_type": "code",
   "execution_count": null,
   "outputs": [],
   "source": [
    "MONITORING_OUTPUT_DIR=os.path.join(WF_TEST_RESULTS_DIR,\n",
    "                                   f\"monitoring_data_{datetime.strptime(WF_START_TIME, '%Y/%m/%d %H:%M:%S').strftime('%Y%m%d_%H%M%S')}\")\n",
    "! mkdir -p \"{MONITORING_OUTPUT_DIR}\"\n",
    "MONITORING_OUTPUT_DIR"
   ],
   "metadata": {
    "collapsed": false,
    "pycharm": {
     "name": "#%%\n"
    }
   }
  },
  {
   "cell_type": "markdown",
   "source": [
    "## General Constants"
   ],
   "metadata": {
    "collapsed": false,
    "pycharm": {
     "name": "#%% md\n"
    }
   }
  },
  {
   "cell_type": "code",
   "execution_count": null,
   "outputs": [],
   "source": [
    "SCRIPTS=Path(\"./terra-workflow-scale-test-tools/scripts\").resolve().as_posix()\n",
    "SCRIPTS"
   ],
   "metadata": {
    "collapsed": false,
    "pycharm": {
     "name": "#%%\n"
    }
   }
  },
  {
   "cell_type": "code",
   "execution_count": null,
   "outputs": [],
   "source": [
    "NOTEBOOKS=Path(\"./terra-workflow-scale-test-tools/notebooks\").resolve().as_posix()\n",
    "NOTEBOOKS"
   ],
   "metadata": {
    "collapsed": false,
    "pycharm": {
     "name": "#%%\n"
    }
   }
  },
  {
   "cell_type": "markdown",
   "source": [
    "# Functions"
   ],
   "metadata": {
    "collapsed": false,
    "pycharm": {
     "name": "#%% md\n"
    }
   }
  },
  {
   "cell_type": "code",
   "execution_count": null,
   "outputs": [],
   "source": [
    "def start_monitoring_background_process() -> psutil.Process:\n",
    "    print(\"Starting monitoring background process ...\")\n",
    "    process = psutil.Popen([\"python3\", f\"{SCRIPTS}/monitor_response_times.py\",\n",
    "                            \"--project\", PROJECT_TO_MONITOR,\n",
    "                            \"--terra-deployment-tier\", TERRA_DEPLOYMENT_TIER,\n",
    "                            \"--output-dir\", MONITORING_OUTPUT_DIR])\n",
    "    print(f\"Started {process}\")\n",
    "    return process"
   ],
   "metadata": {
    "collapsed": false,
    "pycharm": {
     "name": "#%%\n"
    }
   }
  },
  {
   "cell_type": "code",
   "execution_count": null,
   "outputs": [],
   "source": [
    "def stop_monitoring_background_process(process: psutil.Process) -> None:\n",
    "    print(\"Stopping monitoring background process ...\")\n",
    "    process.terminate()\n",
    "    process.wait(60)\n",
    "    print(\"Stopped monitoring background process.\")"
   ],
   "metadata": {
    "collapsed": false,
    "pycharm": {
     "name": "#%%\n"
    }
   }
  },
  {
   "cell_type": "code",
   "execution_count": null,
   "outputs": [],
   "source": [
    "def wait_for_workflow_to_complete() -> None:\n",
    "    # TODO Implement this\n",
    "    pretend_duration = 60\n",
    "    print(f\"Pretending to wait for workflow to complete by sleeping {pretend_duration} seconds ...\")\n",
    "    time.sleep(pretend_duration)\n",
    "    print(\"Pretending workflow is complete!\")"
   ],
   "metadata": {
    "collapsed": false,
    "pycharm": {
     "name": "#%%\n"
    }
   }
  },
  {
   "cell_type": "markdown",
   "source": [
    "# Monitor response times during workflow execution"
   ],
   "metadata": {
    "collapsed": false,
    "pycharm": {
     "name": "#%% md\n"
    }
   }
  },
  {
   "cell_type": "code",
   "execution_count": null,
   "outputs": [],
   "source": [
    "if monitor_workflow:\n",
    "    monitoring_process = start_monitoring_background_process()\n",
    "\n",
    "    wait_for_workflow_to_complete()\n",
    "\n",
    "    stop_monitoring_background_process(monitoring_process)"
   ],
   "metadata": {
    "collapsed": false,
    "pycharm": {
     "name": "#%%\n"
    }
   }
  },
  {
   "cell_type": "markdown",
   "source": [
    "# Copy workflow logs from the workspace bucket to the local filesystem"
   ],
   "metadata": {
    "collapsed": false,
    "pycharm": {
     "name": "#%% md\n"
    }
   }
  },
  {
   "cell_type": "code",
   "execution_count": null,
   "outputs": [],
   "source": [
    "if copy_workflow_logs:\n",
    "    workflow_logs_path = Path(WF_TEST_RESULTS_WORKFLOW_LOGS_DIR)\n",
    "    if not workflow_logs_path.exists():\n",
    "        workflow_logs_path.mkdir(parents=True, exist_ok=False)\n",
    "        # Copy the logs - this can take a long time (tens of minutes to hours)\n",
    "        ! \"{SCRIPTS}/copy_workflow_logs_to_local_fs.sh\" -s \"{WS_WF_GS_URI}\" -d \"{WF_TEST_RESULTS_WORKFLOW_LOGS_DIR}\" > \"{WF_TEST_RESULTS_WORKFLOW_LOGS_DIR}/copy_workflow_logs_to_local_fs.log\" 2>&1\n",
    "    else:\n",
    "        print(f\"The workflow-logs directory already exists: {WF_TEST_RESULTS_WORKFLOW_LOGS_DIR}\")\n",
    "        print(\"Skipping copy of the workflow logs.\")\n",
    "else:\n",
    "    print(\"Currently configured to skip copying of workflow logs.\")\n"
   ],
   "metadata": {
    "collapsed": false,
    "pycharm": {
     "name": "#%%\n"
    }
   }
  },
  {
   "cell_type": "code",
   "execution_count": null,
   "outputs": [],
   "source": [
    "if extract_timeseries_data:\n",
    "    ! \"{SCRIPTS}/extract_drs_localization_timestamps.sh\" -d \"{WF_TEST_RESULTS_DIR}\" # > \"{WF_TEST_RESULTS_WORKFLOW_LOGS_DIR}/extract_drs_localization_timestamps.log\" 2>&1"
   ],
   "metadata": {
    "collapsed": false,
    "pycharm": {
     "name": "#%%\n"
    }
   }
  },
  {
   "cell_type": "code",
   "execution_count": null,
   "outputs": [],
   "source": [
    "if extract_timeseries_data:\n",
    "    ! \"{SCRIPTS}/extract_drs_localization_fallback_timestamps.sh\" -d \"{WF_TEST_RESULTS_DIR}\"  # > \"{WF_TEST_RESULTS_WORKFLOW_LOGS_DIR}/extract_drs_localization_fallback_timestamps.log\" 2>&1"
   ],
   "metadata": {
    "collapsed": false,
    "pycharm": {
     "name": "#%%\n"
    }
   }
  },
  {
   "cell_type": "markdown",
   "source": [
    "# Display the results of the workflow run"
   ],
   "metadata": {
    "collapsed": false,
    "pycharm": {
     "name": "#%% md\n"
    }
   }
  },
  {
   "cell_type": "markdown",
   "source": [
    "## Workflow DRS localization rates"
   ],
   "metadata": {
    "collapsed": false,
    "pycharm": {
     "name": "#%% md\n"
    }
   }
  },
  {
   "cell_type": "code",
   "execution_count": null,
   "outputs": [],
   "source": [
    "if display_results:\n",
    "    %run \"{NOTEBOOKS}/graph_drs_data_access_rates.ipynb\""
   ],
   "metadata": {
    "collapsed": false,
    "pycharm": {
     "name": "#%%\n"
    }
   }
  },
  {
   "cell_type": "markdown",
   "source": [
    "## Service/endpoint response times"
   ],
   "metadata": {
    "collapsed": false,
    "pycharm": {
     "name": "#%% md\n"
    }
   }
  },
  {
   "cell_type": "code",
   "execution_count": null,
   "outputs": [],
   "source": [
    "if display_results:\n",
    "    %run \"{NOTEBOOKS}/graph_response_time_data.ipynb\""
   ],
   "metadata": {
    "collapsed": false,
    "pycharm": {
     "name": "#%%\n"
    }
   }
  },
  {
   "cell_type": "markdown",
   "source": [],
   "metadata": {
    "collapsed": false,
    "pycharm": {
     "name": "#%% md\n"
    }
   }
  }
 ],
 "metadata": {
  "kernelspec": {
   "display_name": "Python 3",
   "language": "python",
   "name": "python3"
  },
  "language_info": {
   "codemirror_mode": {
    "name": "ipython",
    "version": 2
   },
   "file_extension": ".py",
   "mimetype": "text/x-python",
   "name": "python",
   "nbconvert_exporter": "python",
   "pygments_lexer": "ipython2",
   "version": "2.7.6"
  }
 },
 "nbformat": 4,
 "nbformat_minor": 0
}