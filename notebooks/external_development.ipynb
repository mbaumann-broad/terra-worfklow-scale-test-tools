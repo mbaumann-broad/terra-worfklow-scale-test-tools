{
 "cells": [
  {
   "cell_type": "markdown",
   "source": [
    "# Configure for local/external-to-Terra development"
   ],
   "metadata": {
    "collapsed": false,
    "pycharm": {
     "name": "#%% md\n"
    }
   }
  },
  {
   "cell_type": "code",
   "execution_count": null,
   "outputs": [],
   "source": [
    "import os"
   ],
   "metadata": {
    "collapsed": false,
    "pycharm": {
     "name": "#%%\n"
    }
   }
  },
  {
   "cell_type": "markdown",
   "source": [
    "## Set Execution Directory"
   ],
   "metadata": {
    "collapsed": false,
    "pycharm": {
     "name": "#%% md\n"
    }
   }
  },
  {
   "cell_type": "code",
   "execution_count": null,
   "metadata": {
    "collapsed": true,
    "pycharm": {
     "name": "#%%\n"
    }
   },
   "outputs": [],
   "source": [
    "NOTEBOOK_EXECUTION_DIRECTORY=\"/Users/mbaumann/Repos/mbaumann-broad/\"\n",
    "%cd {NOTEBOOK_EXECUTION_DIRECTORY}"
   ]
  },
  {
   "cell_type": "markdown",
   "source": [
    "## Set Environment Variables"
   ],
   "metadata": {
    "collapsed": false,
    "pycharm": {
     "name": "#%% md\n"
    }
   }
  },
  {
   "cell_type": "code",
   "execution_count": null,
   "outputs": [],
   "source": [
    "\n",
    "# The processing performed by this Notebook requires grep with PCRE\n",
    "# support, which the version of grep that comes with MacOS Monterey\n",
    "# does not provide. Therefore, install it with homebrew and add to PATH:\n",
    "# $ brew install grep\n",
    "os.environ['PATH'] = f\"/usr/local/opt/grep/libexec/gnubin:{os.environ['PATH']}\"\n",
    "\n",
    "# The processing performed by this Notebook requires sed \"-z\" option\n",
    "# support, which the version of sed that comes with MacOS Monterey\n",
    "# does not provide. Therefore, install it with homebrew and add to PATH:\n",
    "# $ brew install gnu-sed\n",
    "os.environ['PATH'] = f\"/usr/local/opt/gnu-sed/libexec/gnubin:{os.environ['PATH']}\"\n",
    "\n",
    "# The processing performed by this Notebook requires xargs \"-a\" option\n",
    "# support, which the version of sed that comes with MacOS Monterey\n",
    "# does not provide. Therefore, install it with homebrew and add to PATH:\n",
    "# $ brew install findutils\n",
    "os.environ['PATH'] = f\"/usr/local/opt/findutils/libexec/gnubin:{os.environ['PATH']}\"\n",
    "\n",
    "if os.environ.get('WORKSPACE_BUCKET') is None:\n",
    "    # Workspace bucket used by: `DRS and Signed URL Development - Dev`\n",
    "    # WORKSPACE_BUCKET=\"gs://fc-b14e50ee-ccbe-4ee9-9aa4-f4e4ff85bc03\"\n",
    "    WORKSPACE_BUCKET = \"gs://fc-26863db0-1fe6-463b-a05b-9f8c8cb33dac\"\n",
    "    os.environ['WORKSPACE_BUCKET'] = WORKSPACE_BUCKET\n",
    "\n",
    "if os.environ.get('WORKSPACE_NAMESPACE') is None:\n",
    "    WORKSPACE_NAMESPACE = \"drs-billing-project\"\n",
    "    os.environ['WORKSPACE_NAMESPACE'] = WORKSPACE_NAMESPACE\n",
    "\n",
    "if os.environ.get('WORKSPACE_NAME') is None:\n",
    "    WORKSPACE_NAME = \"DRS Data Access Scale Testing - Alpha\"\n",
    "    os.environ['WORKSPACE_NAME'] = WORKSPACE_NAME\n"
   ],
   "metadata": {
    "collapsed": false,
    "pycharm": {
     "name": "#%%\n"
    }
   }
  }
 ],
 "metadata": {
  "kernelspec": {
   "display_name": "Python 3",
   "language": "python",
   "name": "python3"
  },
  "language_info": {
   "codemirror_mode": {
    "name": "ipython",
    "version": 2
   },
   "file_extension": ".py",
   "mimetype": "text/x-python",
   "name": "python",
   "nbconvert_exporter": "python",
   "pygments_lexer": "ipython2",
   "version": "2.7.6"
  }
 },
 "nbformat": 4,
 "nbformat_minor": 0
}