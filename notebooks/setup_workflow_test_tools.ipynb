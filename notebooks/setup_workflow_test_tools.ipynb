{
 "cells": [
  {
   "cell_type": "markdown",
   "metadata": {},
   "source": [
    "# setup_workflow_test_tools\n",
    "\n",
    "Setup Terra Jupyter Cloud Environment for use of workflow\n",
    "scale test monitoring and reporting tools."
   ]
  },
  {
   "cell_type": "code",
   "execution_count": 2,
   "metadata": {
    "pycharm": {
     "name": "#%%\n"
    }
   },
   "outputs": [],
   "source": [
    "# Enable external development setup\n",
    "external_development=False\n",
    "\n",
    "if external_development:\n",
    "    NOTEBOOK_EXECUTION_DIRECTORY=\"/Users/mbaumann/Repos/mbaumann-broad/\"\n",
    "    %cd {NOTEBOOK_EXECUTION_DIRECTORY}"
   ]
  },
  {
   "cell_type": "code",
   "execution_count": 3,
   "metadata": {
    "pycharm": {
     "name": "#%%\n"
    }
   },
   "outputs": [],
   "source": [
    "from pathlib import Path"
   ]
  },
  {
   "cell_type": "code",
   "execution_count": 4,
   "metadata": {
    "pycharm": {
     "name": "#%%\n"
    }
   },
   "outputs": [],
   "source": [
    "# Clone the GitHub repo containing the tools\n",
    "if not Path('terra-workflow-scale-test-tools').is_dir():\n",
    "    ! git clone https://github.com/mbaumann-broad/terra-workflow-scale-test-tools.git"
   ]
  },
  {
   "cell_type": "code",
   "execution_count": 5,
   "metadata": {
    "pycharm": {
     "name": "#%%\n"
    }
   },
   "outputs": [
    {
     "name": "stdout",
     "output_type": "stream",
     "text": [
      "Already up to date.\r\n"
     ]
    }
   ],
   "source": [
    "# Update the tool repo\n",
    "! (cd ./terra-workflow-scale-test-tools && git pull)"
   ]
  },
  {
   "cell_type": "code",
   "execution_count": 6,
   "metadata": {
    "pycharm": {
     "name": "#%%\n"
    }
   },
   "outputs": [
    {
     "name": "stdout",
     "output_type": "stream",
     "text": [
      "Requirement already satisfied: google-auth in /opt/conda/lib/python3.7/site-packages (from -r ./terra-workflow-scale-test-tools/requirements.txt (line 1)) (2.6.0)\n",
      "Requirement already satisfied: matplotlib in /opt/conda/lib/python3.7/site-packages (from -r ./terra-workflow-scale-test-tools/requirements.txt (line 2)) (3.5.1)\n",
      "Requirement already satisfied: pandas in /opt/conda/lib/python3.7/site-packages (from -r ./terra-workflow-scale-test-tools/requirements.txt (line 3)) (1.3.5)\n",
      "Requirement already satisfied: psutil in /opt/conda/lib/python3.7/site-packages (from -r ./terra-workflow-scale-test-tools/requirements.txt (line 4)) (5.8.0)\n",
      "Requirement already satisfied: requests in /opt/conda/lib/python3.7/site-packages (from -r ./terra-workflow-scale-test-tools/requirements.txt (line 5)) (2.27.1)\n",
      "Collecting schedule\n",
      "  Downloading schedule-1.1.0-py2.py3-none-any.whl (10 kB)\n",
      "Requirement already satisfied: rsa<5,>=3.1.4 in /opt/conda/lib/python3.7/site-packages (from google-auth->-r ./terra-workflow-scale-test-tools/requirements.txt (line 1)) (4.8)\n",
      "Requirement already satisfied: cachetools<6.0,>=2.0.0 in /opt/conda/lib/python3.7/site-packages (from google-auth->-r ./terra-workflow-scale-test-tools/requirements.txt (line 1)) (5.0.0)\n",
      "Requirement already satisfied: six>=1.9.0 in /opt/conda/lib/python3.7/site-packages (from google-auth->-r ./terra-workflow-scale-test-tools/requirements.txt (line 1)) (1.16.0)\n",
      "Requirement already satisfied: pyasn1-modules>=0.2.1 in /opt/conda/lib/python3.7/site-packages (from google-auth->-r ./terra-workflow-scale-test-tools/requirements.txt (line 1)) (0.2.8)\n",
      "Requirement already satisfied: fonttools>=4.22.0 in /opt/conda/lib/python3.7/site-packages (from matplotlib->-r ./terra-workflow-scale-test-tools/requirements.txt (line 2)) (4.29.1)\n",
      "Requirement already satisfied: numpy>=1.17 in /opt/conda/lib/python3.7/site-packages (from matplotlib->-r ./terra-workflow-scale-test-tools/requirements.txt (line 2)) (1.21.5)\n",
      "Requirement already satisfied: pyparsing>=2.2.1 in /opt/conda/lib/python3.7/site-packages (from matplotlib->-r ./terra-workflow-scale-test-tools/requirements.txt (line 2)) (3.0.6)\n",
      "Requirement already satisfied: cycler>=0.10 in /opt/conda/lib/python3.7/site-packages (from matplotlib->-r ./terra-workflow-scale-test-tools/requirements.txt (line 2)) (0.11.0)\n",
      "Requirement already satisfied: python-dateutil>=2.7 in /opt/conda/lib/python3.7/site-packages (from matplotlib->-r ./terra-workflow-scale-test-tools/requirements.txt (line 2)) (2.8.2)\n",
      "Requirement already satisfied: kiwisolver>=1.0.1 in /opt/conda/lib/python3.7/site-packages (from matplotlib->-r ./terra-workflow-scale-test-tools/requirements.txt (line 2)) (1.3.2)\n",
      "Requirement already satisfied: packaging>=20.0 in /opt/conda/lib/python3.7/site-packages (from matplotlib->-r ./terra-workflow-scale-test-tools/requirements.txt (line 2)) (21.3)\n",
      "Requirement already satisfied: pillow>=6.2.0 in /opt/conda/lib/python3.7/site-packages (from matplotlib->-r ./terra-workflow-scale-test-tools/requirements.txt (line 2)) (9.0.1)\n",
      "Requirement already satisfied: pytz>=2017.3 in /opt/conda/lib/python3.7/site-packages (from pandas->-r ./terra-workflow-scale-test-tools/requirements.txt (line 3)) (2021.3)\n",
      "Requirement already satisfied: idna<4,>=2.5 in /opt/conda/lib/python3.7/site-packages (from requests->-r ./terra-workflow-scale-test-tools/requirements.txt (line 5)) (3.3)\n",
      "Requirement already satisfied: certifi>=2017.4.17 in /opt/conda/lib/python3.7/site-packages (from requests->-r ./terra-workflow-scale-test-tools/requirements.txt (line 5)) (2021.10.8)\n",
      "Requirement already satisfied: urllib3<1.27,>=1.21.1 in /opt/conda/lib/python3.7/site-packages (from requests->-r ./terra-workflow-scale-test-tools/requirements.txt (line 5)) (1.26.8)\n",
      "Requirement already satisfied: charset-normalizer~=2.0.0 in /opt/conda/lib/python3.7/site-packages (from requests->-r ./terra-workflow-scale-test-tools/requirements.txt (line 5)) (2.0.11)\n",
      "Requirement already satisfied: pyasn1<0.5.0,>=0.4.6 in /opt/conda/lib/python3.7/site-packages (from pyasn1-modules>=0.2.1->google-auth->-r ./terra-workflow-scale-test-tools/requirements.txt (line 1)) (0.4.8)\n",
      "Installing collected packages: schedule\n",
      "Successfully installed schedule-1.1.0\n",
      "\u001b[33mWARNING: You are using pip version 22.0.3; however, version 22.0.4 is available.\n",
      "You should consider upgrading via the '/opt/conda/bin/python3 -m pip install --upgrade pip' command.\u001b[0m\u001b[33m\n",
      "\u001b[0mNote: you may need to restart the kernel to use updated packages.\n"
     ]
    }
   ],
   "source": [
    "# Install the Python dependencies\n",
    "%pip install -r ./terra-workflow-scale-test-tools/requirements.txt"
   ]
  },
  {
   "cell_type": "code",
   "execution_count": 8,
   "metadata": {
    "pycharm": {
     "name": "#%%\n"
    }
   },
   "outputs": [
    {
     "name": "stdout",
     "output_type": "stream",
     "text": [
      "Copying ./terra-workflow-scale-test-tools/notebooks/graph_drs_data_access_rates.ipynb to ./graph_drs_data_access_rates.ipynb\n",
      "\n",
      "Copying ./terra-workflow-scale-test-tools/notebooks/graph_response_time_data.ipynb to ./graph_response_time_data.ipynb\n",
      "\n",
      "Copying ./terra-workflow-scale-test-tools/notebooks/monitor_workflow_and_report_results.ipynb to ./monitor_workflow_and_report_results.ipynb\n",
      "\n",
      "Note: The files:\n",
      " ./terra-workflow-scale-test-tools/notebooks/setup_workflow_test_tools.ipynb\n",
      "and\n",
      " ./setup_workflow_test_tools.ipynb\n",
      "are different, consider updating:\n",
      "4a5\n",
      ">    \"metadata\": {},\n",
      "10,13c11\n",
      "<    ],\n",
      "<    \"metadata\": {\n",
      "<     \"collapsed\": false\n",
      "<    }\n",
      "---\n",
      ">    ]\n",
      "17,23c15\n",
      "<    \"execution_count\": null,\n",
      "<    \"outputs\": [],\n",
      "<    \"source\": [\n",
      "<     \"# TODO Set this differently for running in Terra Jupyter Cloud Environment.\\n\",\n",
      "<     \"NOTEBOOK_EXECUTION_DIRECTORY=\\\"/Users/mbaumann/Repos/mbaumann-broad/\\\"\\n\",\n",
      "<     \"%cd {NOTEBOOK_EXECUTION_DIRECTORY}\"\n",
      "<    ],\n",
      "---\n",
      ">    \"execution_count\": 2,\n",
      "25d16\n",
      "<     \"collapsed\": false,\n",
      "29c20,29\n",
      "<    }\n",
      "---\n",
      ">    },\n",
      ">    \"outputs\": [],\n",
      ">    \"source\": [\n",
      ">     \"# Enable external development setup\\n\",\n",
      ">     \"external_development=False\\n\",\n",
      ">     \"\\n\",\n",
      ">     \"if external_development:\\n\",\n",
      ">     \"    NOTEBOOK_EXECUTION_DIRECTORY=\\\"/Users/mbaumann/Repos/mbaumann-broad/\\\"\\n\",\n",
      ">     \"    %cd {NOTEBOOK_EXECUTION_DIRECTORY}\"\n",
      ">    ]\n",
      "33,37c33\n",
      "<    \"execution_count\": null,\n",
      "<    \"outputs\": [],\n",
      "<    \"source\": [\n",
      "<     \"from pathlib import Path\"\n",
      "<    ],\n",
      "---\n",
      ">    \"execution_count\": 3,\n",
      "39d34\n",
      "<     \"collapsed\": false,\n",
      "43c38,42\n",
      "<    }\n",
      "---\n",
      ">    },\n",
      ">    \"outputs\": [],\n",
      ">    \"source\": [\n",
      ">     \"from pathlib import Path\"\n",
      ">    ]\n",
      "47c46,51\n",
      "<    \"execution_count\": null,\n",
      "---\n",
      ">    \"execution_count\": 4,\n",
      ">    \"metadata\": {\n",
      ">     \"pycharm\": {\n",
      ">      \"name\": \"#%%\\n\"\n",
      ">     }\n",
      ">    },\n",
      "53c57,61\n",
      "<    ],\n",
      "---\n",
      ">    ]\n",
      ">   },\n",
      ">   {\n",
      ">    \"cell_type\": \"code\",\n",
      ">    \"execution_count\": 5,\n",
      "55d62\n",
      "<     \"collapsed\": false,\n",
      "59,64c66,75\n",
      "<    }\n",
      "<   },\n",
      "<   {\n",
      "<    \"cell_type\": \"code\",\n",
      "<    \"execution_count\": null,\n",
      "<    \"outputs\": [],\n",
      "---\n",
      ">    },\n",
      ">    \"outputs\": [\n",
      ">     {\n",
      ">      \"name\": \"stdout\",\n",
      ">      \"output_type\": \"stream\",\n",
      ">      \"text\": [\n",
      ">       \"Already up to date.\\r\\n\"\n",
      ">      ]\n",
      ">     }\n",
      ">    ],\n",
      "68c79,83\n",
      "<    ],\n",
      "---\n",
      ">    ]\n",
      ">   },\n",
      ">   {\n",
      ">    \"cell_type\": \"code\",\n",
      ">    \"execution_count\": 6,\n",
      "70d84\n",
      "<     \"collapsed\": false,\n",
      "74c88,130\n",
      "<    }\n",
      "---\n",
      ">    },\n",
      ">    \"outputs\": [\n",
      ">     {\n",
      ">      \"name\": \"stdout\",\n",
      ">      \"output_type\": \"stream\",\n",
      ">      \"text\": [\n",
      ">       \"Requirement already satisfied: google-auth in /opt/conda/lib/python3.7/site-packages (from -r ./terra-workflow-scale-test-tools/requirements.txt (line 1)) (2.6.0)\\n\",\n",
      ">       \"Requirement already satisfied: matplotlib in /opt/conda/lib/python3.7/site-packages (from -r ./terra-workflow-scale-test-tools/requirements.txt (line 2)) (3.5.1)\\n\",\n",
      ">       \"Requirement already satisfied: pandas in /opt/conda/lib/python3.7/site-packages (from -r ./terra-workflow-scale-test-tools/requirements.txt (line 3)) (1.3.5)\\n\",\n",
      ">       \"Requirement already satisfied: psutil in /opt/conda/lib/python3.7/site-packages (from -r ./terra-workflow-scale-test-tools/requirements.txt (line 4)) (5.8.0)\\n\",\n",
      ">       \"Requirement already satisfied: requests in /opt/conda/lib/python3.7/site-packages (from -r ./terra-workflow-scale-test-tools/requirements.txt (line 5)) (2.27.1)\\n\",\n",
      ">       \"Collecting schedule\\n\",\n",
      ">       \"  Downloading schedule-1.1.0-py2.py3-none-any.whl (10 kB)\\n\",\n",
      ">       \"Requirement already satisfied: rsa<5,>=3.1.4 in /opt/conda/lib/python3.7/site-packages (from google-auth->-r ./terra-workflow-scale-test-tools/requirements.txt (line 1)) (4.8)\\n\",\n",
      ">       \"Requirement already satisfied: cachetools<6.0,>=2.0.0 in /opt/conda/lib/python3.7/site-packages (from google-auth->-r ./terra-workflow-scale-test-tools/requirements.txt (line 1)) (5.0.0)\\n\",\n",
      ">       \"Requirement already satisfied: six>=1.9.0 in /opt/conda/lib/python3.7/site-packages (from google-auth->-r ./terra-workflow-scale-test-tools/requirements.txt (line 1)) (1.16.0)\\n\",\n",
      ">       \"Requirement already satisfied: pyasn1-modules>=0.2.1 in /opt/conda/lib/python3.7/site-packages (from google-auth->-r ./terra-workflow-scale-test-tools/requirements.txt (line 1)) (0.2.8)\\n\",\n",
      ">       \"Requirement already satisfied: fonttools>=4.22.0 in /opt/conda/lib/python3.7/site-packages (from matplotlib->-r ./terra-workflow-scale-test-tools/requirements.txt (line 2)) (4.29.1)\\n\",\n",
      ">       \"Requirement already satisfied: numpy>=1.17 in /opt/conda/lib/python3.7/site-packages (from matplotlib->-r ./terra-workflow-scale-test-tools/requirements.txt (line 2)) (1.21.5)\\n\",\n",
      ">       \"Requirement already satisfied: pyparsing>=2.2.1 in /opt/conda/lib/python3.7/site-packages (from matplotlib->-r ./terra-workflow-scale-test-tools/requirements.txt (line 2)) (3.0.6)\\n\",\n",
      ">       \"Requirement already satisfied: cycler>=0.10 in /opt/conda/lib/python3.7/site-packages (from matplotlib->-r ./terra-workflow-scale-test-tools/requirements.txt (line 2)) (0.11.0)\\n\",\n",
      ">       \"Requirement already satisfied: python-dateutil>=2.7 in /opt/conda/lib/python3.7/site-packages (from matplotlib->-r ./terra-workflow-scale-test-tools/requirements.txt (line 2)) (2.8.2)\\n\",\n",
      ">       \"Requirement already satisfied: kiwisolver>=1.0.1 in /opt/conda/lib/python3.7/site-packages (from matplotlib->-r ./terra-workflow-scale-test-tools/requirements.txt (line 2)) (1.3.2)\\n\",\n",
      ">       \"Requirement already satisfied: packaging>=20.0 in /opt/conda/lib/python3.7/site-packages (from matplotlib->-r ./terra-workflow-scale-test-tools/requirements.txt (line 2)) (21.3)\\n\",\n",
      ">       \"Requirement already satisfied: pillow>=6.2.0 in /opt/conda/lib/python3.7/site-packages (from matplotlib->-r ./terra-workflow-scale-test-tools/requirements.txt (line 2)) (9.0.1)\\n\",\n",
      ">       \"Requirement already satisfied: pytz>=2017.3 in /opt/conda/lib/python3.7/site-packages (from pandas->-r ./terra-workflow-scale-test-tools/requirements.txt (line 3)) (2021.3)\\n\",\n",
      ">       \"Requirement already satisfied: idna<4,>=2.5 in /opt/conda/lib/python3.7/site-packages (from requests->-r ./terra-workflow-scale-test-tools/requirements.txt (line 5)) (3.3)\\n\",\n",
      ">       \"Requirement already satisfied: certifi>=2017.4.17 in /opt/conda/lib/python3.7/site-packages (from requests->-r ./terra-workflow-scale-test-tools/requirements.txt (line 5)) (2021.10.8)\\n\",\n",
      ">       \"Requirement already satisfied: urllib3<1.27,>=1.21.1 in /opt/conda/lib/python3.7/site-packages (from requests->-r ./terra-workflow-scale-test-tools/requirements.txt (line 5)) (1.26.8)\\n\",\n",
      ">       \"Requirement already satisfied: charset-normalizer~=2.0.0 in /opt/conda/lib/python3.7/site-packages (from requests->-r ./terra-workflow-scale-test-tools/requirements.txt (line 5)) (2.0.11)\\n\",\n",
      ">       \"Requirement already satisfied: pyasn1<0.5.0,>=0.4.6 in /opt/conda/lib/python3.7/site-packages (from pyasn1-modules>=0.2.1->google-auth->-r ./terra-workflow-scale-test-tools/requirements.txt (line 1)) (0.4.8)\\n\",\n",
      ">       \"Installing collected packages: schedule\\n\",\n",
      ">       \"Successfully installed schedule-1.1.0\\n\",\n",
      ">       \"\\u001b[33mWARNING: You are using pip version 22.0.3; however, version 22.0.4 is available.\\n\",\n",
      ">       \"You should consider upgrading via the '/opt/conda/bin/python3 -m pip install --upgrade pip' command.\\u001b[0m\\u001b[33m\\n\",\n",
      ">       \"\\u001b[0mNote: you may need to restart the kernel to use updated packages.\\n\"\n",
      ">      ]\n",
      ">     }\n",
      ">    ],\n",
      ">    \"source\": [\n",
      ">     \"# Install the Python dependencies\\n\",\n",
      ">     \"%pip install -r ./terra-workflow-scale-test-tools/requirements.txt\"\n",
      ">    ]\n",
      "79,83d134\n",
      "<    \"outputs\": [],\n",
      "<    \"source\": [\n",
      "<     \"# Install the Python dependencies\\n\",\n",
      "<     \"%pip install -r ./terra-workflow-scale-test-tools/requirements.txt\"\n",
      "<    ],\n",
      "85d135\n",
      "<     \"collapsed\": false,\n",
      "89,93c139\n",
      "<    }\n",
      "<   },\n",
      "<   {\n",
      "<    \"cell_type\": \"code\",\n",
      "<    \"execution_count\": null,\n",
      "---\n",
      ">    },\n",
      "100a147,149\n",
      ">     \"# TODO Find a way of comparing the notebooks that only compares the code\\n\",\n",
      ">     \"# and not the content of Notebooks. Consider nbdiff?\\n\",\n",
      ">     \"\\n\",\n",
      "105c154\n",
      "<     \"      cp $f ./$f_basename\\n\",\n",
      "---\n",
      ">     \"      gsutil cp $f $f_basename \\\"$WORKSPACE_BUCKET/notebooks/\\\"\\n\",\n",
      "112,118c161\n",
      "<    ],\n",
      "<    \"metadata\": {\n",
      "<     \"collapsed\": false,\n",
      "<     \"pycharm\": {\n",
      "<      \"name\": \"#%%\\n\"\n",
      "<     }\n",
      "<    }\n",
      "---\n",
      ">    ]\n",
      "122,125d164\n",
      "<    \"source\": [\n",
      "<     \"**Manual Step:\\n\",\n",
      "<     \"Ensure the workflow WDL files in Broad Methods Repository match those in:  ./terra-workflow-scale-test-tools/workflows**\"\n",
      "<    ],\n",
      "127d165\n",
      "<     \"collapsed\": false,\n",
      "131c169,173\n",
      "<    }\n",
      "---\n",
      ">    },\n",
      ">    \"source\": [\n",
      ">     \"**Manual Step:\\n\",\n",
      ">     \"Ensure the workflow WDL files in Broad Methods Repository match those in:  ./terra-workflow-scale-test-tools/workflows**\"\n",
      ">    ]\n",
      "143c185\n",
      "<     \"version\": 2\n",
      "---\n",
      ">     \"version\": 3\n",
      "149,150c191,205\n",
      "<    \"pygments_lexer\": \"ipython2\",\n",
      "<    \"version\": \"2.7.6\"\n",
      "---\n",
      ">    \"pygments_lexer\": \"ipython3\",\n",
      ">    \"version\": \"3.7.12\"\n",
      ">   },\n",
      ">   \"toc\": {\n",
      ">    \"base_numbering\": 1,\n",
      ">    \"nav_menu\": {},\n",
      ">    \"number_sections\": false,\n",
      ">    \"sideBar\": true,\n",
      ">    \"skip_h1_title\": false,\n",
      ">    \"title_cell\": \"Table of Contents\",\n",
      ">    \"title_sidebar\": \"Contents\",\n",
      ">    \"toc_cell\": false,\n",
      ">    \"toc_position\": {},\n",
      ">    \"toc_section_display\": true,\n",
      ">    \"toc_window_display\": true\n",
      "154,155c209,210\n",
      "<  \"nbformat_minor\": 0\n",
      "< }\n",
      "\\ No newline at end of file\n",
      "---\n",
      ">  \"nbformat_minor\": 1\n",
      "> }\n",
      "\n"
     ]
    },
    {
     "name": "stderr",
     "output_type": "stream",
     "text": [
      "Copying file://./terra-workflow-scale-test-tools/notebooks/graph_drs_data_access_rates.ipynb [Content-Type=application/octet-stream]...\n",
      "CommandException: No URLs matched: graph_drs_data_access_rates.ipynb\n",
      "/ [0 files][    0.0 B/146.4 KiB]                                                \r",
      "/ [1 files][146.4 KiB/146.4 KiB]                                                \r",
      "Copying file://./terra-workflow-scale-test-tools/notebooks/graph_response_time_data.ipynb [Content-Type=application/octet-stream]...\n",
      "CommandException: No URLs matched: graph_response_time_data.ipynb\n",
      "/ [0 files][    0.0 B/406.7 KiB]                                                \r",
      "/ [1 files][406.7 KiB/406.7 KiB]                                                \r",
      "Copying file://./terra-workflow-scale-test-tools/notebooks/monitor_workflow_and_report_results.ipynb [Content-Type=application/octet-stream]...\n",
      "CommandException: No URLs matched: monitor_workflow_and_report_results.ipynb\n",
      "/ [0 files][    0.0 B/116.6 KiB]                                                \r",
      "/ [1 files][116.6 KiB/116.6 KiB]                                                \r"
     ]
    }
   ],
   "source": [
    "%%bash\n",
    "\n",
    "# Copy Notebooks to where Terra expects them.\n",
    "# Don't overwrite existing Notebooks yet notify of any differences.\n",
    "\n",
    "# TODO Find a way of comparing the notebooks that only compares the code\n",
    "# and not the content of Notebooks. Consider nbdiff?\n",
    "\n",
    "for f in ./terra-workflow-scale-test-tools/notebooks/* ; do\n",
    "    f_basename=$(basename $f)\n",
    "    if [[ ! -e $f_basename ]]; then\n",
    "      echo Copying $f to ./$f_basename\n",
    "      gsutil cp $f $f_basename \"$WORKSPACE_BUCKET/notebooks/\"\n",
    "    elif ! diff -q $f ./$f_basename > /dev/null ; then\n",
    "      echo -e Note: The files:\\\\n  $f\\\\nand\\\\n  ./$f_basename\\\\nare different, consider updating:\n",
    "      diff $f ./$f_basename\n",
    "    fi\n",
    "    echo\n",
    "done"
   ]
  },
  {
   "cell_type": "markdown",
   "metadata": {
    "pycharm": {
     "name": "#%% md\n"
    }
   },
   "source": [
    "**Manual Step:\n",
    "Ensure the workflow WDL files in Broad Methods Repository match those in:  ./terra-workflow-scale-test-tools/workflows**"
   ]
  }
 ],
 "metadata": {
  "kernelspec": {
   "display_name": "Python 3",
   "language": "python",
   "name": "python3"
  },
  "language_info": {
   "codemirror_mode": {
    "name": "ipython",
    "version": 3
   },
   "file_extension": ".py",
   "mimetype": "text/x-python",
   "name": "python",
   "nbconvert_exporter": "python",
   "pygments_lexer": "ipython3",
   "version": "3.7.12"
  },
  "toc": {
   "base_numbering": 1,
   "nav_menu": {},
   "number_sections": false,
   "sideBar": true,
   "skip_h1_title": false,
   "title_cell": "Table of Contents",
   "title_sidebar": "Contents",
   "toc_cell": false,
   "toc_position": {},
   "toc_section_display": true,
   "toc_window_display": true
  }
 },
 "nbformat": 4,
 "nbformat_minor": 1
}
