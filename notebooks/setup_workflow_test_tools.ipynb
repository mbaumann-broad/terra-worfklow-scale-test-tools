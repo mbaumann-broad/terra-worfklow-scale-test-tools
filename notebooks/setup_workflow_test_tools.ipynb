{
 "cells": [
  {
   "cell_type": "markdown",
   "source": [
    "# setup_workflow_test_tools\n",
    "\n",
    "Setup Terra Jupyter Cloud Environment for use of workflow\n",
    "scale test monitoring and reporting tools."
   ],
   "metadata": {
    "collapsed": false
   }
  },
  {
   "cell_type": "code",
   "execution_count": null,
   "outputs": [],
   "source": [
    "# TODO Set this differently for running in Terra Jupyter Cloud Environment.\n",
    "NOTEBOOK_EXECUTION_DIRECTORY=\"/Users/mbaumann/Repos/mbaumann-broad/\"\n",
    "%cd {NOTEBOOK_EXECUTION_DIRECTORY}"
   ],
   "metadata": {
    "collapsed": false,
    "pycharm": {
     "name": "#%%\n"
    }
   }
  },
  {
   "cell_type": "code",
   "execution_count": null,
   "outputs": [],
   "source": [
    "from pathlib import Path"
   ],
   "metadata": {
    "collapsed": false,
    "pycharm": {
     "name": "#%%\n"
    }
   }
  },
  {
   "cell_type": "code",
   "execution_count": null,
   "outputs": [],
   "source": [
    "# Clone the GitHub repo containing the tools\n",
    "if not Path('terra-workflow-scale-test-tools').is_dir():\n",
    "    ! git clone https://github.com/mbaumann-broad/terra-workflow-scale-test-tools.git"
   ],
   "metadata": {
    "collapsed": false,
    "pycharm": {
     "name": "#%%\n"
    }
   }
  },
  {
   "cell_type": "code",
   "execution_count": null,
   "outputs": [],
   "source": [
    "# Update the tool repo\n",
    "! (cd ./terra-workflow-scale-test-tools && git pull)"
   ],
   "metadata": {
    "collapsed": false,
    "pycharm": {
     "name": "#%%\n"
    }
   }
  },
  {
   "cell_type": "code",
   "execution_count": null,
   "outputs": [],
   "source": [
    "# Install the Python dependencies\n",
    "%pip install -r ./terra-workflow-scale-test-tools/requirements.txt"
   ],
   "metadata": {
    "collapsed": false,
    "pycharm": {
     "name": "#%%\n"
    }
   }
  },
  {
   "cell_type": "code",
   "execution_count": null,
   "outputs": [],
   "source": [
    "%%bash\n",
    "\n",
    "# Copy Notebooks to where Terra expects them.\n",
    "# Don't overwrite existing Notebooks yet notify of any differences.\n",
    "\n",
    "for f in ./terra-workflow-scale-test-tools/notebooks/* ; do\n",
    "    f_basename=$(basename $f)\n",
    "    if [[ ! -e $f_basename ]]; then\n",
    "      echo Copying $f to ./$f_basename\n",
    "      cp $f ./$f_basename\n",
    "    elif ! diff -q $f ./$f_basename > /dev/null ; then\n",
    "      echo -e Note: The files:\\\\n  $f\\\\nand\\\\n  ./$f_basename\\\\nare different, consider updating:\n",
    "      diff $f ./$f_basename\n",
    "    fi\n",
    "    echo\n",
    "done"
   ],
   "metadata": {
    "collapsed": false,
    "pycharm": {
     "name": "#%%\n"
    }
   }
  },
  {
   "cell_type": "markdown",
   "source": [
    "**Manual Step:\n",
    "Ensure the workflow WDL files in Broad Methods Repository match those in:  ./terra-workflow-scale-test-tools/workflows**"
   ],
   "metadata": {
    "collapsed": false,
    "pycharm": {
     "name": "#%% md\n"
    }
   }
  }
 ],
 "metadata": {
  "kernelspec": {
   "display_name": "Python 3",
   "language": "python",
   "name": "python3"
  },
  "language_info": {
   "codemirror_mode": {
    "name": "ipython",
    "version": 2
   },
   "file_extension": ".py",
   "mimetype": "text/x-python",
   "name": "python",
   "nbconvert_exporter": "python",
   "pygments_lexer": "ipython2",
   "version": "2.7.6"
  }
 },
 "nbformat": 4,
 "nbformat_minor": 0
}