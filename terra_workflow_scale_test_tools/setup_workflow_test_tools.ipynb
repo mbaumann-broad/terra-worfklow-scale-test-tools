{
 "cells": [
  {
   "cell_type": "markdown",
   "metadata": {},
   "source": [
    "# setup_workflow_test_tools\n",
    "\n",
    "Setup Terra Jupyter Cloud Environment for use of workflow\n",
    "scale test monitoring and reporting tools."
   ]
  },
  {
   "cell_type": "code",
   "execution_count": null,
   "metadata": {
    "pycharm": {
     "name": "#%%\n"
    }
   },
   "outputs": [],
   "source": [
    "# Enable external development setup\n",
    "external_development=False\n",
    "\n",
    "if external_development:\n",
    "    NOTEBOOK_EXECUTION_DIRECTORY=\"/Users/mbaumann/Repos/mbaumann-broad/\"\n",
    "    %cd {NOTEBOOK_EXECUTION_DIRECTORY}"
   ]
  },
  {
   "cell_type": "code",
   "execution_count": null,
   "metadata": {
    "pycharm": {
     "name": "#%%\n"
    }
   },
   "outputs": [],
   "source": [
    "from pathlib import Path"
   ]
  },
  {
   "cell_type": "code",
   "execution_count": null,
   "metadata": {
    "pycharm": {
     "name": "#%%\n"
    }
   },
   "outputs": [],
   "source": [
    "# Clone the GitHub repo containing the tools\n",
    "if not Path('terra-workflow-scale-test-tools').is_dir():\n",
    "    ! git clone https://github.com/mbaumann-broad/terra-workflow-scale-test-tools.git"
   ]
  },
  {
   "cell_type": "code",
   "execution_count": null,
   "metadata": {
    "pycharm": {
     "name": "#%%\n"
    }
   },
   "outputs": [],
   "source": [
    "# Update the tool repo\n",
    "! (cd ./terra-workflow-scale-test-tools && git pull)"
   ]
  },
  {
   "cell_type": "code",
   "execution_count": null,
   "metadata": {
    "pycharm": {
     "name": "#%%\n"
    }
   },
   "outputs": [],
   "source": [
    "# Install the Python dependencies\n",
    "%pip install -r ./terra-workflow-scale-test-tools/requirements.txt"
   ]
  },
  {
   "cell_type": "code",
   "execution_count": null,
   "metadata": {
    "pycharm": {
     "name": "#%%\n"
    }
   },
   "outputs": [],
   "source": [
    "%%bash\n",
    "\n",
    "# Copy Notebooks to where Terra expects them.\n",
    "# Don't overwrite existing Notebooks yet notify of any differences.\n",
    "\n",
    "# TODO Find a way of comparing the notebooks that only compares the code\n",
    "# and not the content of Notebooks. Consider nbdiff?\n",
    "\n",
    "# TODO The following does not check/handle all the cases in which\n",
    "# there could be differences. This could be improved.\n",
    "\n",
    "for filename in monitor_workflow_and_report_results.ipynb ; do\n",
    "    fs_path=\"./terra-workflow-scale-test-tools/notebooks/$filename\"\n",
    "    bucket_path=\"$WORKSPACE_BUCKET/notebooks/$filename\"\n",
    "    if ! gsutil -q ls \"$bucket_path\" 2>&1 > /dev/null ; then\n",
    "      echo Copying \"$fs_path\" to \"$bucket_path\"\n",
    "      gsutil cp \"$fs_path\" \"$bucket_path\"\n",
    "    else\n",
    "      if [[ -e \"./$filename\" ]]; then\n",
    "        if ! diff -q \"$fs_path\" \"./$filename\" 2>&1  >/dev/null ; then\n",
    "          echo -e Note: The files:\\\\n  \"$fs_path\"\\\\nand\\\\n  ./$filename\\\\nare different, consider updating:\n",
    "          diff \"$fs_path\" \"./$filename\"\n",
    "        fi\n",
    "      fi\n",
    "    fi\n",
    "done"
   ]
  },
  {
   "cell_type": "markdown",
   "metadata": {
    "pycharm": {
     "name": "#%% md\n"
    }
   },
   "source": [
    "**Next Step:**\n",
    "Ensure the workflow WDL files in Broad Methods Repository match those in:  ./terra-workflow-scale-test-tools/workflows"
   ]
  },
  {
   "cell_type": "markdown",
   "metadata": {
    "pycharm": {
     "name": "#%% md\n"
    }
   },
   "source": [
    "**Next Step:**\n",
    "In the Terra Notebooks tab, open the Notebook \"monitor_workflow_and_report_results\" in Edit mode and work through that."
   ]
  }
 ],
 "metadata": {
  "kernelspec": {
   "display_name": "Python 3",
   "language": "python",
   "name": "python3"
  },
  "language_info": {
   "codemirror_mode": {
    "name": "ipython",
    "version": 3
   },
   "file_extension": ".py",
   "mimetype": "text/x-python",
   "name": "python",
   "nbconvert_exporter": "python",
   "pygments_lexer": "ipython3",
   "version": "3.7.12"
  },
  "toc": {
   "base_numbering": 1,
   "nav_menu": {},
   "number_sections": false,
   "sideBar": true,
   "skip_h1_title": false,
   "title_cell": "Table of Contents",
   "title_sidebar": "Contents",
   "toc_cell": false,
   "toc_position": {},
   "toc_section_display": true,
   "toc_window_display": true
  }
 },
 "nbformat": 4,
 "nbformat_minor": 1
}
