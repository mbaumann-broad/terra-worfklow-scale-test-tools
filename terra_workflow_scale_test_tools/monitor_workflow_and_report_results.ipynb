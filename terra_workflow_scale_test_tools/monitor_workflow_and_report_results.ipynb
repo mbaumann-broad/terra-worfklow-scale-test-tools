{
 "cells": [
  {
   "cell_type": "markdown",
   "source": [
    "# monitor_workflow_and_report_results\n",
    "\n",
    "Top-level Notebook for monitoring and reporting results of workflow DRS data access scale tests."
   ],
   "metadata": {
    "collapsed": false,
    "pycharm": {
     "name": "#%% md\n"
    }
   }
  },
  {
   "cell_type": "code",
   "execution_count": null,
   "outputs": [],
   "source": [
    "# Temporarily uninstall/reinstall until versioning is implemented.\n",
    "! pip3 uninstall -y terra-workflow-scale-test-tools"
   ],
   "metadata": {
    "collapsed": false,
    "pycharm": {
     "name": "#%%\n"
    }
   }
  },
  {
   "cell_type": "code",
   "execution_count": null,
   "outputs": [],
   "source": [
    "! pip3 install --upgrade --no-cache-dir git+https://github.com/mbaumann-broad/terra-workflow-scale-test-tools.git"
   ],
   "metadata": {
    "collapsed": false,
    "pycharm": {
     "name": "#%%\n"
    }
   }
  },
  {
   "cell_type": "markdown",
   "source": [
    "# Imports"
   ],
   "metadata": {
    "collapsed": false,
    "pycharm": {
     "name": "#%% md\n"
    }
   }
  },
  {
   "cell_type": "code",
   "execution_count": null,
   "outputs": [],
   "source": [
    "import importlib\n",
    "import os\n",
    "from datetime import datetime\n",
    "from pathlib import Path\n",
    "\n",
    "from terra_workflow_scale_test_tools.monitor_response_times import \\\n",
    "    start_monitoring_in_current_process, stop_monitoring_in_current_process\n",
    "from terra_workflow_scale_test_tools.user_input import UserInputUI\n",
    "from terra_workflow_scale_test_tools.workflow_status import WorkflowDAO, wait_for_workflow_to_complete"
   ],
   "metadata": {
    "collapsed": false,
    "pycharm": {
     "name": "#%%\n"
    }
   }
  },
  {
   "cell_type": "code",
   "execution_count": null,
   "outputs": [],
   "source": [
    "def get_resource_path(filename: str) -> str:\n",
    "    with importlib.resources.path(\"terra_workflow_scale_test_tools\", filename) as path:\n",
    "        return str(path)"
   ],
   "metadata": {
    "collapsed": false,
    "pycharm": {
     "name": "#%%\n"
    }
   }
  },
  {
   "cell_type": "code",
   "execution_count": null,
   "outputs": [],
   "source": [
    "class StopExecution(Exception):\n",
    "    def _render_traceback_(self):\n",
    "        pass"
   ],
   "metadata": {
    "collapsed": false,
    "pycharm": {
     "name": "#%%\n"
    }
   }
  },
  {
   "cell_type": "markdown",
   "source": [
    "# Manual Input/Configuration"
   ],
   "metadata": {
    "collapsed": false,
    "pycharm": {
     "name": "#%% md\n"
    }
   }
  },
  {
   "cell_type": "code",
   "execution_count": null,
   "outputs": [],
   "source": [
    "ui = UserInputUI()\n",
    "ui.display()"
   ],
   "metadata": {
    "collapsed": false,
    "pycharm": {
     "name": "#%%\n"
    }
   }
  },
  {
   "cell_type": "code",
   "execution_count": null,
   "outputs": [],
   "source": [
    "# TODO Add more validation of the selected inputs.\n",
    "if ui.get_submission_id() == \"\":\n",
    "    print(\"Please enter a valid Submission Id then run this notebook cell again.\")\n",
    "    raise StopExecution"
   ],
   "metadata": {
    "collapsed": false,
    "pycharm": {
     "name": "#%%\n"
    }
   }
  },
  {
   "cell_type": "code",
   "execution_count": null,
   "outputs": [],
   "source": [
    "WF_SUBMISSION_ID = ui.get_submission_id()\n",
    "WF_SUBMISSION_ID"
   ],
   "metadata": {
    "collapsed": false,
    "pycharm": {
     "name": "#%%\n"
    }
   }
  },
  {
   "cell_type": "code",
   "execution_count": null,
   "outputs": [],
   "source": [
    "monitor_response_time = ui.is_monitor_response_times()\n",
    "monitor_response_time"
   ],
   "metadata": {
    "collapsed": false,
    "pycharm": {
     "name": "#%%\n"
    }
   }
  },
  {
   "cell_type": "code",
   "execution_count": null,
   "outputs": [],
   "source": [
    "PROJECT_TO_MONITOR = ui.get_data_service()\n",
    "PROJECT_TO_MONITOR"
   ],
   "metadata": {
    "collapsed": false,
    "pycharm": {
     "name": "#%%\n"
    }
   }
  },
  {
   "cell_type": "code",
   "execution_count": null,
   "outputs": [],
   "source": [
    "TERRA_DEPLOYMENT_TIER=ui.get_terra_deployment_tier()\n",
    "TERRA_DEPLOYMENT_TIER"
   ],
   "metadata": {
    "collapsed": false,
    "pycharm": {
     "name": "#%%\n"
    }
   }
  },
  {
   "cell_type": "code",
   "execution_count": null,
   "outputs": [],
   "source": [
    "copy_workflow_logs_for_analysis = ui.is_copy_workflow_logs_for_analysis()\n",
    "copy_workflow_logs_for_analysis"
   ],
   "metadata": {
    "collapsed": false,
    "pycharm": {
     "name": "#%%\n"
    }
   }
  },
  {
   "cell_type": "code",
   "execution_count": null,
   "outputs": [],
   "source": [
    "extract_timeseries_data = ui.is_extract_timeseries_data()\n",
    "extract_timeseries_data"
   ],
   "metadata": {
    "collapsed": false,
    "pycharm": {
     "name": "#%%\n"
    }
   }
  },
  {
   "cell_type": "code",
   "execution_count": null,
   "outputs": [],
   "source": [
    "display_timeseries_graphs = ui.is_display_timeseries_graphs()\n",
    "display_timeseries_graphs"
   ],
   "metadata": {
    "collapsed": false,
    "pycharm": {
     "name": "#%%\n"
    }
   }
  },
  {
   "cell_type": "markdown",
   "source": [
    "# Get Workflow Details"
   ],
   "metadata": {
    "collapsed": false,
    "pycharm": {
     "name": "#%% md\n"
    }
   }
  },
  {
   "cell_type": "code",
   "execution_count": null,
   "outputs": [],
   "source": [
    "WORKSPACE_NAMESPACE = os.getenv('WORKSPACE_NAMESPACE')\n",
    "WORKSPACE_NAME = os.getenv('WORKSPACE_NAME')"
   ],
   "metadata": {
    "collapsed": false,
    "pycharm": {
     "name": "#%%\n"
    }
   }
  },
  {
   "cell_type": "code",
   "execution_count": null,
   "outputs": [],
   "source": [
    "workflow_dao = WorkflowDAO(TERRA_DEPLOYMENT_TIER, WORKSPACE_NAMESPACE, WORKSPACE_NAME, WF_SUBMISSION_ID)\n",
    "print(\"This may take a minute or more for large workflows ...\")\n",
    "print(f\"\\nSubmission Summary:\\n{workflow_dao.get_workflow_summary_display_string()}\")"
   ],
   "metadata": {
    "collapsed": false,
    "pycharm": {
     "name": "#%%\n"
    }
   }
  },
  {
   "cell_type": "code",
   "execution_count": null,
   "outputs": [],
   "source": [
    "WF_START_TIME = workflow_dao.get_submission_time('%Y/%m/%d %H:%M:%S')\n",
    "WF_START_TIME"
   ],
   "metadata": {
    "collapsed": false,
    "pycharm": {
     "name": "#%%\n"
    }
   }
  },
  {
   "cell_type": "markdown",
   "source": [
    "# General Constants"
   ],
   "metadata": {
    "collapsed": false,
    "pycharm": {
     "name": "#%% md\n"
    }
   }
  },
  {
   "cell_type": "code",
   "execution_count": null,
   "outputs": [],
   "source": [
    "WORKSPACE_BUCKET=os.environ['WORKSPACE_BUCKET']\n",
    "WORKSPACE_BUCKET"
   ],
   "metadata": {
    "collapsed": false,
    "pycharm": {
     "name": "#%%\n"
    }
   }
  },
  {
   "cell_type": "code",
   "execution_count": null,
   "outputs": [],
   "source": [
    "WF_SUBMISSION_GS_URI= f\"{WORKSPACE_BUCKET}/{WF_SUBMISSION_ID}\"\n",
    "WF_SUBMISSION_GS_URI"
   ],
   "metadata": {
    "collapsed": false,
    "pycharm": {
     "name": "#%%\n"
    }
   }
  },
  {
   "cell_type": "code",
   "execution_count": null,
   "outputs": [],
   "source": [
    "TEST_RESULTS_DIR=Path('./test_results').resolve().as_posix()\n",
    "! mkdir -p \"{TEST_RESULTS_DIR}\"\n",
    "TEST_RESULTS_DIR"
   ],
   "metadata": {
    "collapsed": false,
    "pycharm": {
     "name": "#%%\n"
    }
   }
  },
  {
   "cell_type": "code",
   "execution_count": null,
   "outputs": [],
   "source": [
    "WF_TEST_RESULTS_DIR=os.path.join(TEST_RESULTS_DIR, f\"submission_{WF_SUBMISSION_ID}\")\n",
    "! mkdir -p \"{WF_TEST_RESULTS_DIR}\"\n",
    "WF_TEST_RESULTS_DIR"
   ],
   "metadata": {
    "collapsed": false,
    "pycharm": {
     "name": "#%%\n"
    }
   }
  },
  {
   "cell_type": "code",
   "execution_count": null,
   "outputs": [],
   "source": [
    "WF_TEST_RESULTS_WORKFLOW_LOGS_DIR=os.path.join(WF_TEST_RESULTS_DIR, \"workflow-logs\")\n",
    "# Do not create directory here.\n",
    "# It is created when the logs are copied, and it's presence indicates they have been copied.\n",
    "WF_TEST_RESULTS_WORKFLOW_LOGS_DIR"
   ],
   "metadata": {
    "collapsed": false,
    "pycharm": {
     "name": "#%%\n"
    }
   }
  },
  {
   "cell_type": "code",
   "execution_count": null,
   "outputs": [],
   "source": [
    "MONITORING_OUTPUT_DIR=os.path.join(WF_TEST_RESULTS_DIR,\n",
    "                                   f\"monitoring_data_{datetime.strptime(WF_START_TIME, '%Y/%m/%d %H:%M:%S').strftime('%Y%m%d_%H%M%S')}\")\n",
    "! mkdir -p \"{MONITORING_OUTPUT_DIR}\"\n",
    "MONITORING_OUTPUT_DIR"
   ],
   "metadata": {
    "collapsed": false,
    "pycharm": {
     "name": "#%%\n"
    }
   }
  },
  {
   "cell_type": "markdown",
   "source": [
    "# Monitor response times during workflow execution"
   ],
   "metadata": {
    "collapsed": false,
    "pycharm": {
     "name": "#%% md\n"
    }
   }
  },
  {
   "cell_type": "code",
   "execution_count": null,
   "outputs": [],
   "source": [
    "if monitor_response_time:\n",
    "    start_monitoring_in_current_process(\n",
    "        TERRA_DEPLOYMENT_TIER, PROJECT_TO_MONITOR, MONITORING_OUTPUT_DIR)\n",
    "\n",
    "    wait_for_workflow_to_complete(workflow_dao)\n",
    "\n",
    "    stop_monitoring_in_current_process()"
   ],
   "metadata": {
    "collapsed": false,
    "pycharm": {
     "name": "#%%\n"
    }
   }
  },
  {
   "cell_type": "markdown",
   "source": [
    "# Copy workflow logs from the workspace bucket to the local filesystem"
   ],
   "metadata": {
    "collapsed": false,
    "pycharm": {
     "name": "#%% md\n"
    }
   }
  },
  {
   "cell_type": "code",
   "execution_count": null,
   "outputs": [],
   "source": [
    "workflow_logs_path = Path(WF_TEST_RESULTS_WORKFLOW_LOGS_DIR)\n",
    "workflow_logs_previously_copied = workflow_logs_path.exists() and workflow_logs_path.is_dir()\n",
    "if copy_workflow_logs_for_analysis:\n",
    "    if not workflow_logs_previously_copied:\n",
    "        workflow_logs_path.mkdir(parents=True, exist_ok=False)\n",
    "        # Copy the logs - this can take a long time (tens of minutes to hours)\n",
    "        ! \"{get_resource_path('copy_workflow_logs_to_local_fs.sh')}\" -s \"{WF_SUBMISSION_GS_URI}\" -d \"{WF_TEST_RESULTS_WORKFLOW_LOGS_DIR}\" > \"{WF_TEST_RESULTS_WORKFLOW_LOGS_DIR}/copy_workflow_logs_to_local_fs.log\" 2>&1\n",
    "    else:\n",
    "        print(f\"The workflow-logs directory already exists: {WF_TEST_RESULTS_WORKFLOW_LOGS_DIR}\")\n",
    "        print(\"Skipping copy of the workflow logs.\")\n",
    "else:\n",
    "    print(\"Currently configured to skip copying of workflow logs.\")\n"
   ],
   "metadata": {
    "collapsed": false,
    "pycharm": {
     "name": "#%%\n"
    }
   }
  },
  {
   "cell_type": "code",
   "execution_count": null,
   "outputs": [],
   "source": [
    "workflow_logs_copied = workflow_logs_path.exists() and workflow_logs_path.is_dir()\n",
    "if workflow_logs_copied and extract_timeseries_data:\n",
    "    ! \"{get_resource_path('extract_drs_localization_timestamps.sh')}\" -d \"{WF_TEST_RESULTS_DIR}\"\n",
    "    ! \"{get_resource_path('extract_drs_localization_fallback_timestamps.sh')}\" -d \"{WF_TEST_RESULTS_DIR}\""
   ],
   "metadata": {
    "collapsed": false,
    "pycharm": {
     "name": "#%%\n"
    }
   }
  },
  {
   "cell_type": "markdown",
   "source": [
    "# Display the results of the workflow run"
   ],
   "metadata": {
    "collapsed": false,
    "pycharm": {
     "name": "#%% md\n"
    }
   }
  },
  {
   "cell_type": "markdown",
   "source": [
    "## Workflow DRS localization rates"
   ],
   "metadata": {
    "collapsed": false,
    "pycharm": {
     "name": "#%% md\n"
    }
   }
  },
  {
   "cell_type": "code",
   "execution_count": null,
   "outputs": [],
   "source": [
    "if workflow_logs_copied and display_timeseries_graphs:\n",
    "    %run \"{get_resource_path('graph_drs_data_access_rates.ipynb')}\""
   ],
   "metadata": {
    "collapsed": false,
    "pycharm": {
     "name": "#%%\n"
    }
   }
  },
  {
   "cell_type": "markdown",
   "source": [],
   "metadata": {
    "collapsed": false,
    "pycharm": {
     "name": "#%% md\n"
    }
   }
  },
  {
   "cell_type": "code",
   "execution_count": null,
   "outputs": [],
   "source": [
    "if display_timeseries_graphs:\n",
    "    %run \"{get_resource_path('graph_response_time_data.ipynb')}\""
   ],
   "metadata": {
    "collapsed": false,
    "pycharm": {
     "name": "#%%\n"
    }
   }
  }
 ],
 "metadata": {
  "kernelspec": {
   "display_name": "Python 3",
   "language": "python",
   "name": "python3"
  },
  "language_info": {
   "codemirror_mode": {
    "name": "ipython",
    "version": 2
   },
   "file_extension": ".py",
   "mimetype": "text/x-python",
   "name": "python",
   "nbconvert_exporter": "python",
   "pygments_lexer": "ipython2",
   "version": "2.7.6"
  }
 },
 "nbformat": 4,
 "nbformat_minor": 0
}