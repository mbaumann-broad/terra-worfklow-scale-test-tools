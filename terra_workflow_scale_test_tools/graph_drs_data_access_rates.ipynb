{
 "cells": [
  {
   "cell_type": "markdown",
   "metadata": {
    "pycharm": {
     "name": "#%% md\n"
    }
   },
   "source": [
    "# graph_drs_data_access_rates\n",
    "\n",
    "Graph the number of Terra workflow DRS localization operations started per second,\n",
    "based on Terra workflow log timestamps for log entries containing:\n",
    "`Localizing input drs://`"
   ]
  },
  {
   "cell_type": "markdown",
   "metadata": {
    "pycharm": {
     "name": "#%% md\n"
    }
   },
   "source": [
    "The input data for this Notebook is prepared by the `extract_drs_localization_timestamps.sh` script, here:\n",
    "https://github.com/mbaumann-broad/data-wrangling/blob/workflow_data_access_rate/scripts/workflow_drs_data_access_rate/extract_drs_localization_timestamps.sh\n",
    "\n",
    "TODO Update to the new repo location when available there."
   ]
  },
  {
   "cell_type": "code",
   "execution_count": null,
   "metadata": {
    "pycharm": {
     "name": "#%%\n"
    }
   },
   "outputs": [],
   "source": [
    "DATA_ACCESS_RATE_INPUT_FILE = f\"{WF_TEST_RESULTS_DIR}/drs_localization_timeseries.tsv\"\n",
    "FALLBACK_RATE_INPUT_FILE = f\"{WF_TEST_RESULTS_DIR}/drs_localization_fallback_timeseries.tsv\""
   ]
  },
  {
   "cell_type": "code",
   "execution_count": null,
   "outputs": [],
   "source": [
    "import os\n",
    "import traceback\n",
    "\n",
    "from typing import Any\n",
    "\n",
    "import matplotlib.colors as mcolors\n",
    "import matplotlib.dates as mdates\n",
    "import matplotlib.pyplot as plt\n",
    "import matplotlib.ticker as ticker\n",
    "\n",
    "import pandas as pd"
   ],
   "metadata": {
    "collapsed": false,
    "pycharm": {
     "name": "#%%\n"
    }
   }
  },
  {
   "cell_type": "code",
   "execution_count": null,
   "outputs": [],
   "source": [
    "class DataAccessRateDisplayMethods:\n",
    "    def __init__(self, input_filename: str,\n",
    "                 graph_title: str,\n",
    "                 timestamp_columnname: str,\n",
    "                 data_access_count_columnname: str,\n",
    "                 is_subplot: bool = False,\n",
    "                 figure_width: float = 10,\n",
    "                 figure_height: float = 6.18):\n",
    "        self.input_filename = input_filename\n",
    "        self.graph_title = graph_title\n",
    "        self.timestamp_columnname = timestamp_columnname\n",
    "        self.data_access_count_columnname = data_access_count_columnname\n",
    "        self.is_subplot = is_subplot\n",
    "        self.figure_width = figure_width\n",
    "        self.figure_height = figure_height\n",
    "        plt.style.use(\"fast\")\n",
    "\n",
    "    def load_file_to_df(self, sep: str = ',') -> pd.DataFrame:\n",
    "        df = pd.read_csv(self.input_filename, sep=sep)\n",
    "        return df\n",
    "\n",
    "    def clean_up_data(self, df: pd.DataFrame) -> pd.DataFrame:\n",
    "        # Extract the columns of interest from any others that may be present\n",
    "        keep_columns = [self.timestamp_columnname,\n",
    "                        self.data_access_count_columnname]\n",
    "        df = df[keep_columns]\n",
    "\n",
    "        # Remove all rows that are completely empty\n",
    "        df = df.dropna(how='all') # Removes all rows that are completely empty\n",
    "\n",
    "        # Sort by the timestamp column\n",
    "        df = df.sort_values(by=[self.timestamp_columnname])\n",
    "\n",
    "        return df\n",
    "\n",
    "    def update_timestamp_column(self, df: pd.DataFrame) -> pd.DataFrame:\n",
    "        df[self.timestamp_columnname] = pd.to_datetime(df[self.timestamp_columnname])\n",
    "\n",
    "        # Set the timestamp column as the first column\n",
    "        cols = list(df)\n",
    "        cols.insert(0, cols.pop(cols.index(self.timestamp_columnname)))\n",
    "        df = df.loc[:, cols]\n",
    "\n",
    "        df.set_index(self.timestamp_columnname, drop=False)\n",
    "        return df\n",
    "\n",
    "    def resample_data_to_total_rate_per_second(self, df: pd.DataFrame) -> pd.DataFrame:\n",
    "        df = df.resample(pd.Timedelta(1, 'second'),\n",
    "                         on=self.timestamp_columnname)['Count'].sum().reset_index()\n",
    "        df = df.set_index(self.timestamp_columnname, drop=False)\n",
    "        return df\n",
    "\n",
    "    def format_x_axis_time(self) -> None:\n",
    "        ax = plt.gca() # Get current axes\n",
    "        ax.xaxis.set_major_locator(mdates.HourLocator())\n",
    "        ax.xaxis.set_minor_locator(mdates.MinuteLocator(byminute=range(0, 59, 5)))\n",
    "        ax.xaxis.set_major_formatter(mdates.DateFormatter('%Y/%m/%d %H:%M'))\n",
    "        ax.xaxis.set_minor_formatter(mdates.DateFormatter(\"%H:%M\"))\n",
    "        for label in ax.get_xticklabels(which='major'):\n",
    "            label.set(rotation=90, horizontalalignment='right')\n",
    "        for label in ax.get_xticklabels(which='minor'):\n",
    "            label.set(rotation=90, horizontalalignment='right')\n",
    "\n",
    "    def add_legend(self) -> None:\n",
    "        ax = plt.gca() # Get current axes\n",
    "        ax.legend(loc='upper left', frameon=True, edgecolor=\"b\")\n",
    "\n",
    "    def draw_line_graph(self, df: pd.DataFrame, line_format_kwargs=dict()) -> None:\n",
    "        plt.xlabel(\"Time (UTC)\")\n",
    "        self.format_x_axis_time()\n",
    "        plt.ylabel(\"DRS Data Accesses Per Second\")\n",
    "        plt.title(self.graph_title)\n",
    "        plt.plot(df[self.timestamp_columnname],\n",
    "                 df[self.data_access_count_columnname],\n",
    "                 # linestyle=\"-\", color=\"b\", label=\"DRS data access rate per second\"\n",
    "                 **line_format_kwargs)\n",
    "\n",
    "    def add_markers(self, df: pd.DataFrame,\n",
    "                    value_columnname: str, match_value: Any,\n",
    "                    marker: str, marker_color: str,\n",
    "                    label: str) -> None:\n",
    "        df_matches = df[df[value_columnname] == match_value]\n",
    "        if df_matches.shape[0] == 0: # No matching rows\n",
    "            return\n",
    "        x_axis_match_timestamps = df_matches[self.timestamp_columnname]\n",
    "        y_axis_match_response_duration = df_matches[self.data_access_count_columnname]\n",
    "\n",
    "        plt.scatter(x_axis_match_timestamps, y_axis_match_response_duration,\n",
    "                    marker=marker, c=marker_color, label=label)\n",
    "\n",
    "    # def draw_success_markers(self, df: pd.DataFrame) -> None:\n",
    "    #     self.add_markers(df, self.response_reason_columnname, \"OK\",\n",
    "    #                      marker='o', marker_color='g', label=\"Success (2xx)\")\n",
    "    #\n",
    "    # def draw_error_markers(self, df):\n",
    "    #     # For colors available, see: https://matplotlib.org/stable/gallery/color/named_colors.html\n",
    "    #     for status_code, color in (401, \"k\"), (500, \"r\"), (502, mcolors.TABLEAU_COLORS['tab:orange']):\n",
    "    #         self.add_markers(df, self.response_code_columnname, status_code,\n",
    "    #                          marker='v', marker_color=color, label=f\"Error ({status_code})\")\n",
    "\n",
    "    def draw_line_graph_with_error_markers(self, df: pd.DataFrame, line_format_kwargs: dict =dict()) -> None:\n",
    "        self.draw_line_graph(df, line_format_kwargs)\n",
    "        # self.draw_success_markers(df)\n",
    "        # self.draw_error_markers(df)\n",
    "        self.add_legend()\n",
    "\n",
    "    def display_statistics(self, df: pd.DataFrame, statistics_title) -> None:\n",
    "        print(statistics_title)\n",
    "        print(f\"Maximum value:\\t{round(df[self.data_access_count_columnname].max(), 1)}\")\n",
    "        print(f\"Mean value:\\t{round(df[self.data_access_count_columnname].mean(), 1)}\")\n",
    "        print(f\"95th quantile:\\t{round(df[self.data_access_count_columnname].quantile(0.95), 1)}\")\n",
    "        print()\n",
    "\n",
    "    def display_data_access_rate(self, line_format_kwargs: dict = dict()) -> None:\n",
    "        df = self.load_file_to_df(sep='\\t')\n",
    "        df = self.clean_up_data(df)\n",
    "        df = self.update_timestamp_column(df)\n",
    "        df = self.resample_data_to_total_rate_per_second(df)\n",
    "        statistics_title = line_format_kwargs['label'] if line_format_kwargs.get('label') else self.graph_title\n",
    "        self.display_statistics(df, statistics_title)\n",
    "        if not self.is_subplot:\n",
    "            plt.figure(1, figsize=(self.figure_width, self.figure_height))\n",
    "        self.draw_line_graph_with_error_markers(df, line_format_kwargs)"
   ],
   "metadata": {
    "collapsed": false,
    "pycharm": {
     "name": "#%%\n"
    }
   }
  },
  {
   "cell_type": "code",
   "execution_count": null,
   "outputs": [],
   "source": [
    "def display_drs_data_access_rates(input_filename: str, line_format_kwargs=dict(), is_subplot: bool = False) -> None:\n",
    "    graph_title = \"DRS Data Access Rates\"\n",
    "    displayer = DataAccessRateDisplayMethods(input_filename, graph_title,\n",
    "                                             'Timestamp', 'Count',\n",
    "                                             is_subplot=is_subplot)\n",
    "    displayer.display_data_access_rate(line_format_kwargs)\n",
    "    if not is_subplot:\n",
    "        plt.show()"
   ],
   "metadata": {
    "collapsed": false,
    "pycharm": {
     "name": "#%%\n"
    }
   }
  },
  {
   "cell_type": "code",
   "execution_count": null,
   "outputs": [],
   "source": [
    "def display_drs_data_access_and_fallback_rates(data_access_rate_filename: str, fallback_rate_filename: str) -> None:\n",
    "    plt.figure(figsize=(10, 6.8))\n",
    "    is_subplot = True\n",
    "\n",
    "    plt.subplot(1, 1, 1)\n",
    "    line_format_kwargs = dict(linestyle=\"-\", color=\"b\", label=\"DRS data access rate per second\")\n",
    "    display_drs_data_access_rates(data_access_rate_filename, line_format_kwargs, is_subplot)\n",
    "\n",
    "    plt.subplot(1, 1, 1)\n",
    "    line_format_kwargs = dict(linestyle=\"-\", color=\"r\", label=\"Fallback rate per second\")\n",
    "    display_drs_data_access_rates(fallback_rate_filename, line_format_kwargs, is_subplot)\n",
    "\n",
    "    plt.show()"
   ],
   "metadata": {
    "collapsed": false,
    "pycharm": {
     "name": "#%%\n"
    }
   }
  },
  {
   "cell_type": "code",
   "execution_count": null,
   "outputs": [],
   "source": [
    "try:\n",
    "    if os.path.exists(FALLBACK_RATE_INPUT_FILE):\n",
    "        display_drs_data_access_and_fallback_rates(DATA_ACCESS_RATE_INPUT_FILE, FALLBACK_RATE_INPUT_FILE)\n",
    "    else:\n",
    "        print(f\"DRS fallback rate input file not found: {FALLBACK_RATE_INPUT_FILE}\\n\"\n",
    "              \"This may be because no fallbacks occurred.\\n\")\n",
    "except Exception as ex:\n",
    "    print(traceback.print_exc())"
   ],
   "metadata": {
    "collapsed": false,
    "pycharm": {
     "name": "#%%\n"
    }
   }
  },
  {
   "cell_type": "code",
   "execution_count": null,
   "outputs": [],
   "source": [
    "try:\n",
    "    line_format_kwargs = dict(linestyle=\"-\", color=\"b\", label=\"DRS data access rate per second\")\n",
    "    display_drs_data_access_rates(DATA_ACCESS_RATE_INPUT_FILE, line_format_kwargs)\n",
    "except Exception as ex:\n",
    "    print(traceback.print_exc())"
   ],
   "metadata": {
    "collapsed": false,
    "pycharm": {
     "name": "#%%\n"
    }
   }
  },
  {
   "cell_type": "code",
   "execution_count": null,
   "outputs": [],
   "source": [
    "import traceback\n",
    "try:\n",
    "    line_format_kwargs = dict(linestyle=\"-\", color=\"r\", label=\"Fallback rate per second\")\n",
    "    if os.path.exists(FALLBACK_RATE_INPUT_FILE):\n",
    "        display_drs_data_access_rates(FALLBACK_RATE_INPUT_FILE, line_format_kwargs)\n",
    "    else:\n",
    "        print(f\"DRS fallback rate input file not found: {FALLBACK_RATE_INPUT_FILE}\\n\"\n",
    "              \"This may be because no fallbacks occurred.\\n\")\n",
    "except Exception as ex:\n",
    "    print(traceback.print_exc())"
   ],
   "metadata": {
    "collapsed": false,
    "pycharm": {
     "name": "#%%\n"
    }
   }
  }
 ],
 "metadata": {
  "kernelspec": {
   "display_name": "Python 3",
   "language": "python",
   "name": "python3"
  },
  "language_info": {
   "codemirror_mode": {
    "name": "ipython",
    "version": 3
   },
   "file_extension": ".py",
   "mimetype": "text/x-python",
   "name": "python",
   "nbconvert_exporter": "python",
   "pygments_lexer": "ipython3",
   "version": "3.7.12"
  },
  "toc": {
   "base_numbering": 1,
   "nav_menu": {},
   "number_sections": false,
   "sideBar": true,
   "skip_h1_title": false,
   "title_cell": "Table of Contents",
   "title_sidebar": "Contents",
   "toc_cell": false,
   "toc_position": {},
   "toc_section_display": true,
   "toc_window_display": true
  }
 },
 "nbformat": 4,
 "nbformat_minor": 2
}